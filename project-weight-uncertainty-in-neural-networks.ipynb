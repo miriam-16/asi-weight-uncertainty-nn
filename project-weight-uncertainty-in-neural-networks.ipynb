{
 "cells": [
  {
   "cell_type": "markdown",
   "id": "3ab3f6eb",
   "metadata": {
    "papermill": {
     "duration": 0.004626,
     "end_time": "2025-06-10T08:40:46.113871",
     "exception": false,
     "start_time": "2025-06-10T08:40:46.109245",
     "status": "completed"
    },
    "tags": []
   },
   "source": [
    "# [ASI Project] Weight Uncertainty in Neural Networks  \n",
    "**Authors**: Miriam Lamari, Francesco Giannuzzo  \n"
   ]
  },
  {
   "cell_type": "code",
   "execution_count": 1,
   "id": "57bbd758",
   "metadata": {
    "execution": {
     "iopub.execute_input": "2025-06-10T08:40:46.122355Z",
     "iopub.status.busy": "2025-06-10T08:40:46.122121Z",
     "iopub.status.idle": "2025-06-10T08:40:57.218431Z",
     "shell.execute_reply": "2025-06-10T08:40:57.217843Z"
    },
    "papermill": {
     "duration": 11.102103,
     "end_time": "2025-06-10T08:40:57.219834",
     "exception": false,
     "start_time": "2025-06-10T08:40:46.117731",
     "status": "completed"
    },
    "tags": []
   },
   "outputs": [],
   "source": [
    "import csv\n",
    "import math\n",
    "import functools as ft\n",
    "from typing import Any, Optional\n",
    "\n",
    "import numpy as np\n",
    "import torch\n",
    "import torch.nn as nn\n",
    "import torch.nn.functional as F\n",
    "from torch import Tensor\n",
    "from torch.utils.data import DataLoader, random_split\n",
    "from torchvision import datasets, transforms\n",
    "from kaggle_secrets import UserSecretsClient\n",
    "import wandb\n"
   ]
  },
  {
   "cell_type": "markdown",
   "id": "e775c243",
   "metadata": {
    "papermill": {
     "duration": 0.003683,
     "end_time": "2025-06-10T08:40:57.227525",
     "exception": false,
     "start_time": "2025-06-10T08:40:57.223842",
     "status": "completed"
    },
    "tags": []
   },
   "source": [
    "### Wandb utility code"
   ]
  },
  {
   "cell_type": "code",
   "execution_count": 2,
   "id": "0b83a444",
   "metadata": {
    "execution": {
     "iopub.execute_input": "2025-06-10T08:40:57.236086Z",
     "iopub.status.busy": "2025-06-10T08:40:57.235787Z",
     "iopub.status.idle": "2025-06-10T08:40:58.410889Z",
     "shell.execute_reply": "2025-06-10T08:40:58.410261Z"
    },
    "papermill": {
     "duration": 1.180784,
     "end_time": "2025-06-10T08:40:58.412016",
     "exception": false,
     "start_time": "2025-06-10T08:40:57.231232",
     "status": "completed"
    },
    "tags": []
   },
   "outputs": [
    {
     "name": "stderr",
     "output_type": "stream",
     "text": [
      "\u001b[34m\u001b[1mwandb\u001b[0m: Using wandb-core as the SDK backend.  Please refer to https://wandb.me/wandb-core for more information.\n",
      "\u001b[34m\u001b[1mwandb\u001b[0m: \u001b[33mWARNING\u001b[0m If you're specifying your api key in code, ensure this code is not shared publicly.\n",
      "\u001b[34m\u001b[1mwandb\u001b[0m: \u001b[33mWARNING\u001b[0m Consider setting the WANDB_API_KEY environment variable, or running `wandb login` from the command line.\n",
      "\u001b[34m\u001b[1mwandb\u001b[0m: No netrc file found, creating one.\n",
      "\u001b[34m\u001b[1mwandb\u001b[0m: Appending key for api.wandb.ai to your netrc file: /root/.netrc\n",
      "\u001b[34m\u001b[1mwandb\u001b[0m: Currently logged in as: \u001b[33mfrancescogiannuzzo2002-fg\u001b[0m (\u001b[33mmiriam-lamari2-eurecom\u001b[0m) to \u001b[32mhttps://api.wandb.ai\u001b[0m. Use \u001b[1m`wandb login --relogin`\u001b[0m to force relogin\n"
     ]
    },
    {
     "data": {
      "text/plain": [
       "True"
      ]
     },
     "execution_count": 2,
     "metadata": {},
     "output_type": "execute_result"
    }
   ],
   "source": [
    "user_secrets = UserSecretsClient()\n",
    "key = user_secrets.get_secret('wandb-api-key')\n",
    "\n",
    "wandb.login(key=key)"
   ]
  },
  {
   "cell_type": "markdown",
   "id": "64e539df",
   "metadata": {
    "papermill": {
     "duration": 0.00406,
     "end_time": "2025-06-10T08:40:58.420333",
     "exception": false,
     "start_time": "2025-06-10T08:40:58.416273",
     "status": "completed"
    },
    "tags": []
   },
   "source": [
    "## Minibatches "
   ]
  },
  {
   "cell_type": "code",
   "execution_count": 3,
   "id": "fb6e730c",
   "metadata": {
    "execution": {
     "iopub.execute_input": "2025-06-10T08:40:58.429287Z",
     "iopub.status.busy": "2025-06-10T08:40:58.428783Z",
     "iopub.status.idle": "2025-06-10T08:40:58.432253Z",
     "shell.execute_reply": "2025-06-10T08:40:58.431731Z"
    },
    "papermill": {
     "duration": 0.008962,
     "end_time": "2025-06-10T08:40:58.433135",
     "exception": false,
     "start_time": "2025-06-10T08:40:58.424173",
     "status": "completed"
    },
    "tags": []
   },
   "outputs": [],
   "source": [
    "def minibatch_weight(batch_idx: int, num_batches: int) -> float:\n",
    "    return 2 ** (num_batches - batch_idx) / (2 ** num_batches - 1) # definition of pi_i"
   ]
  },
  {
   "cell_type": "markdown",
   "id": "6675312d",
   "metadata": {
    "papermill": {
     "duration": 0.003769,
     "end_time": "2025-06-10T08:40:58.440769",
     "exception": false,
     "start_time": "2025-06-10T08:40:58.437000",
     "status": "completed"
    },
    "tags": []
   },
   "source": [
    "## Variational Approximation"
   ]
  },
  {
   "cell_type": "code",
   "execution_count": 4,
   "id": "b9f02db7",
   "metadata": {
    "execution": {
     "iopub.execute_input": "2025-06-10T08:40:58.449882Z",
     "iopub.status.busy": "2025-06-10T08:40:58.449479Z",
     "iopub.status.idle": "2025-06-10T08:40:58.455250Z",
     "shell.execute_reply": "2025-06-10T08:40:58.454572Z"
    },
    "papermill": {
     "duration": 0.01183,
     "end_time": "2025-06-10T08:40:58.456403",
     "exception": false,
     "start_time": "2025-06-10T08:40:58.444573",
     "status": "completed"
    },
    "tags": []
   },
   "outputs": [],
   "source": [
    "# Base class for BNN to enable certain behaviour\n",
    "class BayesianModule(nn.Module):\n",
    "\n",
    "    def __init__(self):\n",
    "        super().__init__()\n",
    "\n",
    "    def kld(self, *args):\n",
    "        raise NotImplementedError('BayesianModule::kld()')\n",
    "\n",
    "\n",
    "# Variational approximator for Bayesian Neural Networks\n",
    "def variational_approximator(model: nn.Module) -> nn.Module:\n",
    "\n",
    "    def kl_divergence(self) -> Tensor:\n",
    "        kl = 0\n",
    "        for module in self.modules():\n",
    "            if isinstance(module, BayesianModule):\n",
    "                kl += module.kl_divergence\n",
    "\n",
    "        return kl\n",
    "\n",
    "    def elbo(self, inputs: Tensor, targets: Tensor, criterion: Any, n_samples: int, w_complexity: Optional[float] = 1.0) -> Tensor:\n",
    "        loss = 0\n",
    "        for _ in range(n_samples):\n",
    "            outputs = self(inputs)\n",
    "            loss += criterion(outputs, targets)\n",
    "            loss += self.kl_divergence() * w_complexity\n",
    "\n",
    "        return loss / n_samples\n",
    "\n",
    "    # include `kl_divergence` function to the model\n",
    "    setattr(model, 'kl_divergence', kl_divergence)\n",
    "\n",
    "    # include `elbo` function to the model\n",
    "    setattr(model, 'elbo', elbo)\n",
    "\n",
    "    return model\n"
   ]
  },
  {
   "cell_type": "markdown",
   "id": "2a7a1676",
   "metadata": {
    "papermill": {
     "duration": 0.003722,
     "end_time": "2025-06-10T08:40:58.464249",
     "exception": false,
     "start_time": "2025-06-10T08:40:58.460527",
     "status": "completed"
    },
    "tags": []
   },
   "source": [
    "## Scale Mixture Prior"
   ]
  },
  {
   "cell_type": "code",
   "execution_count": 5,
   "id": "33674cf6",
   "metadata": {
    "execution": {
     "iopub.execute_input": "2025-06-10T08:40:58.472647Z",
     "iopub.status.busy": "2025-06-10T08:40:58.472420Z",
     "iopub.status.idle": "2025-06-10T08:40:58.477319Z",
     "shell.execute_reply": "2025-06-10T08:40:58.476660Z"
    },
    "papermill": {
     "duration": 0.010241,
     "end_time": "2025-06-10T08:40:58.478330",
     "exception": false,
     "start_time": "2025-06-10T08:40:58.468089",
     "status": "completed"
    },
    "tags": []
   },
   "outputs": [],
   "source": [
    "# Scale Mixture Prior for Bayesian Neural Networks\n",
    "class ScaleMixture(nn.Module):\n",
    "    def __init__(self, pi: float, sigma1: float, sigma2: float) -> None:\n",
    "        super().__init__()\n",
    "\n",
    "        self.pi = pi\n",
    "        self.sigma1 = sigma1\n",
    "        self.sigma2 = sigma2\n",
    "\n",
    "        self.normal1 = torch.distributions.Normal(0, sigma1)\n",
    "        self.normal2 = torch.distributions.Normal(0, sigma2)\n",
    "\n",
    "    def log_prior(self, w: Tensor) -> Tensor:\n",
    "        likelihood_n1 = torch.exp(self.normal1.log_prob(w))\n",
    "        likelihood_n2 = torch.exp(self.normal2.log_prob(w))\n",
    "\n",
    "        p_scalemixture = self.pi * likelihood_n1 + (1 - self.pi) * likelihood_n2\n",
    "\n",
    "        log_prob = torch.log(p_scalemixture).sum()\n",
    "\n",
    "        return log_prob"
   ]
  },
  {
   "cell_type": "markdown",
   "id": "bb8a8cc5",
   "metadata": {
    "papermill": {
     "duration": 0.003673,
     "end_time": "2025-06-10T08:40:58.485893",
     "exception": false,
     "start_time": "2025-06-10T08:40:58.482220",
     "status": "completed"
    },
    "tags": []
   },
   "source": [
    "### Variant: log-sum-exp rather than log"
   ]
  },
  {
   "cell_type": "code",
   "execution_count": 6,
   "id": "6c730a3e",
   "metadata": {
    "execution": {
     "iopub.execute_input": "2025-06-10T08:40:58.494728Z",
     "iopub.status.busy": "2025-06-10T08:40:58.494135Z",
     "iopub.status.idle": "2025-06-10T08:40:58.499118Z",
     "shell.execute_reply": "2025-06-10T08:40:58.498580Z"
    },
    "papermill": {
     "duration": 0.010239,
     "end_time": "2025-06-10T08:40:58.500085",
     "exception": false,
     "start_time": "2025-06-10T08:40:58.489846",
     "status": "completed"
    },
    "tags": []
   },
   "outputs": [],
   "source": [
    "# Scale Mixture Prior for Bayesian Neural Networks\n",
    "class ScaleMixture(nn.Module):\n",
    "    def __init__(self, pi: float, sigma1: float, sigma2: float) -> None:\n",
    "        super().__init__()\n",
    "        self.pi = pi\n",
    "        self.sigma1 = sigma1\n",
    "        self.sigma2 = sigma2\n",
    "\n",
    "        self.normal1 = torch.distributions.Normal(0, sigma1)\n",
    "        self.normal2 = torch.distributions.Normal(0, sigma2)\n",
    "\n",
    "    def log_prior(self, w: Tensor) -> Tensor:\n",
    "        log_prob_n1 = self.normal1.log_prob(w)\n",
    "        log_prob_n2 = self.normal2.log_prob(w)\n",
    "    \n",
    "        pi = torch.tensor(self.pi, device=w.device)\n",
    "        log_mix1 = torch.log(pi) + log_prob_n1\n",
    "        log_mix2 = torch.log(1.0 - pi) + log_prob_n2\n",
    "    \n",
    "        # Stable log-sum-exp over the two components\n",
    "        log_prob = torch.logsumexp(torch.stack([log_mix1, log_mix2]), dim=0).sum()\n",
    "        return log_prob\n"
   ]
  },
  {
   "cell_type": "markdown",
   "id": "2dea5923",
   "metadata": {
    "papermill": {
     "duration": 0.003694,
     "end_time": "2025-06-10T08:40:58.507640",
     "exception": false,
     "start_time": "2025-06-10T08:40:58.503946",
     "status": "completed"
    },
    "tags": []
   },
   "source": [
    "## Gaussian Variational Inference"
   ]
  },
  {
   "cell_type": "code",
   "execution_count": 7,
   "id": "875583ed",
   "metadata": {
    "execution": {
     "iopub.execute_input": "2025-06-10T08:40:58.515984Z",
     "iopub.status.busy": "2025-06-10T08:40:58.515791Z",
     "iopub.status.idle": "2025-06-10T08:40:58.521417Z",
     "shell.execute_reply": "2025-06-10T08:40:58.520766Z"
    },
    "papermill": {
     "duration": 0.010995,
     "end_time": "2025-06-10T08:40:58.522463",
     "exception": false,
     "start_time": "2025-06-10T08:40:58.511468",
     "status": "completed"
    },
    "tags": []
   },
   "outputs": [],
   "source": [
    "# Gaussian Variational Approximation for Bayesian Neural Networks\n",
    "class GaussianVariational(nn.Module):\n",
    "    def __init__(self, mu: Tensor, rho: Tensor) -> None:\n",
    "        super().__init__()\n",
    "\n",
    "        self.mu = nn.Parameter(mu)\n",
    "        self.rho = nn.Parameter(rho)\n",
    "\n",
    "        self.w = None\n",
    "        self.sigma = None\n",
    "\n",
    "        self.normal = torch.distributions.Normal(0, 1)\n",
    "\n",
    "    def sample(self) -> Tensor:\n",
    "        device = self.mu.device\n",
    "        epsilon = self.normal.sample(self.mu.size()).to(device)\n",
    "        self.sigma = torch.log(1 + torch.exp(self.rho)).to(device)\n",
    "        self.w = self.mu + self.sigma * epsilon\n",
    "        return self.w\n",
    "\n",
    "    def log_posterior(self) -> Tensor:\n",
    "        if self.w is None:\n",
    "            raise ValueError('self.w must have a value.')\n",
    "\n",
    "        log_const = np.log(np.sqrt(2 * np.pi))\n",
    "        log_exp = ((self.w - self.mu) ** 2) / (2 * self.sigma ** 2)\n",
    "        log_posterior = -log_const - torch.log(self.sigma) - log_exp\n",
    "\n",
    "        return log_posterior.sum()"
   ]
  },
  {
   "cell_type": "markdown",
   "id": "0731f91a",
   "metadata": {
    "papermill": {
     "duration": 0.003665,
     "end_time": "2025-06-10T08:40:58.529929",
     "exception": false,
     "start_time": "2025-06-10T08:40:58.526264",
     "status": "completed"
    },
    "tags": []
   },
   "source": [
    "## Bayesian Linear Layer ##"
   ]
  },
  {
   "cell_type": "code",
   "execution_count": 8,
   "id": "aa366dd0",
   "metadata": {
    "execution": {
     "iopub.execute_input": "2025-06-10T08:40:58.538312Z",
     "iopub.status.busy": "2025-06-10T08:40:58.538114Z",
     "iopub.status.idle": "2025-06-10T08:40:58.544277Z",
     "shell.execute_reply": "2025-06-10T08:40:58.543770Z"
    },
    "papermill": {
     "duration": 0.011477,
     "end_time": "2025-06-10T08:40:58.545275",
     "exception": false,
     "start_time": "2025-06-10T08:40:58.533798",
     "status": "completed"
    },
    "tags": []
   },
   "outputs": [],
   "source": [
    "# Bayesian Linear Layer\n",
    "class BayesLinear(BayesianModule):\n",
    "\n",
    "    def __init__(self,\n",
    "                 in_features: int,\n",
    "                 out_features: int,\n",
    "                 prior_pi: Optional[float] = 0.5,\n",
    "                 prior_sigma1: Optional[float] = 1.0,\n",
    "                 prior_sigma2: Optional[float] = 0.0025) -> None:\n",
    "\n",
    "        super().__init__()\n",
    "\n",
    "        w_mu = torch.empty(out_features, in_features).uniform_(-0.2, 0.2)\n",
    "        w_rho = torch.empty(out_features, in_features).uniform_(-5.0, -4.0)\n",
    "\n",
    "        bias_mu = torch.empty(out_features).uniform_(-0.2, 0.2)\n",
    "        bias_rho = torch.empty(out_features).uniform_(-5.0, -4.0)\n",
    "\n",
    "        self.w_posterior = GaussianVariational(w_mu, w_rho)\n",
    "        self.bias_posterior = GaussianVariational(bias_mu, bias_rho)\n",
    "\n",
    "        self.w_prior = ScaleMixture(prior_pi, prior_sigma1, prior_sigma2)\n",
    "        self.bias_prior = ScaleMixture(prior_pi, prior_sigma1, prior_sigma2)\n",
    "\n",
    "        self.kl_divergence = 0.0\n",
    "\n",
    "    def kld(self, log_prior: Tensor, log_posterior: Tensor) -> Tensor:\n",
    "        return log_posterior - log_prior\n",
    "\n",
    "    def forward(self, x: Tensor) -> Tensor:\n",
    "\n",
    "        w = self.w_posterior.sample()\n",
    "        b = self.bias_posterior.sample()\n",
    "\n",
    "        w_log_prior = self.w_prior.log_prior(w)\n",
    "        b_log_prior = self.bias_prior.log_prior(b)\n",
    "\n",
    "        w_log_posterior = self.w_posterior.log_posterior()\n",
    "        b_log_posterior = self.bias_posterior.log_posterior()\n",
    "\n",
    "        total_log_prior = w_log_prior + b_log_prior\n",
    "        total_log_posterior = w_log_posterior + b_log_posterior\n",
    "        self.kl_divergence = self.kld(total_log_prior, total_log_posterior)\n",
    "\n",
    "        return F.linear(x, w, b)"
   ]
  },
  {
   "cell_type": "code",
   "execution_count": 9,
   "id": "76fe0f9e",
   "metadata": {
    "execution": {
     "iopub.execute_input": "2025-06-10T08:40:58.553657Z",
     "iopub.status.busy": "2025-06-10T08:40:58.553452Z",
     "iopub.status.idle": "2025-06-10T08:40:58.609716Z",
     "shell.execute_reply": "2025-06-10T08:40:58.609179Z"
    },
    "papermill": {
     "duration": 0.06158,
     "end_time": "2025-06-10T08:40:58.610787",
     "exception": false,
     "start_time": "2025-06-10T08:40:58.549207",
     "status": "completed"
    },
    "tags": []
   },
   "outputs": [],
   "source": [
    "device = torch.device('cuda' if torch.cuda.is_available() else 'cpu')\n",
    "kwargs = {'num_workers': 1, 'pin_memory': True} if device == 'cuda' else {}\n",
    "\n",
    "# define transforms\n",
    "transform = transforms.Compose([\n",
    "    transforms.ToTensor(),\n",
    "    transforms.Normalize((0.1307,), (0.3081,))\n",
    "])\n"
   ]
  },
  {
   "cell_type": "markdown",
   "id": "0606f5c6",
   "metadata": {
    "papermill": {
     "duration": 0.003811,
     "end_time": "2025-06-10T08:40:58.618647",
     "exception": false,
     "start_time": "2025-06-10T08:40:58.614836",
     "status": "completed"
    },
    "tags": []
   },
   "source": [
    "### Load data for tuning"
   ]
  },
  {
   "cell_type": "code",
   "execution_count": 10,
   "id": "7454eb2d",
   "metadata": {
    "execution": {
     "iopub.execute_input": "2025-06-10T08:40:58.627316Z",
     "iopub.status.busy": "2025-06-10T08:40:58.627079Z",
     "iopub.status.idle": "2025-06-10T08:40:58.631328Z",
     "shell.execute_reply": "2025-06-10T08:40:58.630826Z"
    },
    "papermill": {
     "duration": 0.009845,
     "end_time": "2025-06-10T08:40:58.632350",
     "exception": false,
     "start_time": "2025-06-10T08:40:58.622505",
     "status": "completed"
    },
    "tags": []
   },
   "outputs": [
    {
     "data": {
      "text/plain": [
       "\"\\n\\nfull_trainset = datasets.MNIST('./data', train=True, download=True, transform=transform)\\n\\n#train val split\\n\\ntrain_size = 50000\\nval_size = 10000\\ntrainset, valset = random_split(full_trainset, [train_size, val_size])\\n\\nkwargs = {'shuffle': True, 'num_workers': 2, 'pin_memory': True}\\ntrainloader = DataLoader(trainset, batch_size=128, **kwargs)\\nvalloader = DataLoader(valset, batch_size=128, **kwargs)\\n\\ntestset = datasets.MNIST('./data', train=False, download=True, transform=transform)\\ntestloader = DataLoader(testset, batch_size=128, **kwargs)\\n\\n\""
      ]
     },
     "execution_count": 10,
     "metadata": {},
     "output_type": "execute_result"
    }
   ],
   "source": [
    "\"\"\"\n",
    "\n",
    "full_trainset = datasets.MNIST('./data', train=True, download=True, transform=transform)\n",
    "\n",
    "#train val split\n",
    "\n",
    "train_size = 50000\n",
    "val_size = 10000\n",
    "trainset, valset = random_split(full_trainset, [train_size, val_size])\n",
    "\n",
    "kwargs = {'shuffle': True, 'num_workers': 2, 'pin_memory': True}\n",
    "trainloader = DataLoader(trainset, batch_size=128, **kwargs)\n",
    "valloader = DataLoader(valset, batch_size=128, **kwargs)\n",
    "\n",
    "testset = datasets.MNIST('./data', train=False, download=True, transform=transform)\n",
    "testloader = DataLoader(testset, batch_size=128, **kwargs)\n",
    "\n",
    "\"\"\""
   ]
  },
  {
   "cell_type": "markdown",
   "id": "41fbec00",
   "metadata": {
    "papermill": {
     "duration": 0.003734,
     "end_time": "2025-06-10T08:40:58.640131",
     "exception": false,
     "start_time": "2025-06-10T08:40:58.636397",
     "status": "completed"
    },
    "tags": []
   },
   "source": [
    "### Load data for train-test"
   ]
  },
  {
   "cell_type": "code",
   "execution_count": 11,
   "id": "ff62fe39",
   "metadata": {
    "execution": {
     "iopub.execute_input": "2025-06-10T08:40:58.648875Z",
     "iopub.status.busy": "2025-06-10T08:40:58.648361Z",
     "iopub.status.idle": "2025-06-10T08:41:09.837475Z",
     "shell.execute_reply": "2025-06-10T08:41:09.835888Z"
    },
    "papermill": {
     "duration": 11.194924,
     "end_time": "2025-06-10T08:41:09.838914",
     "exception": false,
     "start_time": "2025-06-10T08:40:58.643990",
     "status": "completed"
    },
    "tags": []
   },
   "outputs": [
    {
     "name": "stderr",
     "output_type": "stream",
     "text": [
      "100%|██████████| 9.91M/9.91M [00:01<00:00, 5.66MB/s]\n",
      "100%|██████████| 28.9k/28.9k [00:00<00:00, 128kB/s]\n",
      "100%|██████████| 1.65M/1.65M [00:01<00:00, 1.41MB/s]\n",
      "100%|██████████| 4.54k/4.54k [00:00<00:00, 7.27MB/s]\n"
     ]
    }
   ],
   "source": [
    "full_trainset = datasets.MNIST('./data', train=True, download=True, transform=transform)\n",
    "\n",
    "#train-test split\n",
    "\n",
    "trainset = full_trainset\n",
    "\n",
    "kwargs = {'shuffle': True, 'num_workers': 2, 'pin_memory': True}\n",
    "trainloader = DataLoader(trainset, batch_size=128, **kwargs)\n",
    "\n",
    "testset = datasets.MNIST('./data', train=False, download=True, transform=transform)\n",
    "testloader = DataLoader(testset, batch_size=128, **kwargs)\n"
   ]
  },
  {
   "cell_type": "markdown",
   "id": "622161a0",
   "metadata": {
    "papermill": {
     "duration": 0.006174,
     "end_time": "2025-06-10T08:41:09.853552",
     "exception": false,
     "start_time": "2025-06-10T08:41:09.847378",
     "status": "completed"
    },
    "tags": []
   },
   "source": [
    "### Define Train loop"
   ]
  },
  {
   "cell_type": "code",
   "execution_count": 12,
   "id": "b9936cc0",
   "metadata": {
    "execution": {
     "iopub.execute_input": "2025-06-10T08:41:09.872545Z",
     "iopub.status.busy": "2025-06-10T08:41:09.872261Z",
     "iopub.status.idle": "2025-06-10T08:41:09.885020Z",
     "shell.execute_reply": "2025-06-10T08:41:09.884195Z"
    },
    "papermill": {
     "duration": 0.023273,
     "end_time": "2025-06-10T08:41:09.886402",
     "exception": false,
     "start_time": "2025-06-10T08:41:09.863129",
     "status": "completed"
    },
    "tags": []
   },
   "outputs": [],
   "source": [
    "def train_loop(learning_rate, prior_pi, prior_sigma1, prior_sigma2, epochs=25):\n",
    "    @variational_approximator\n",
    "    class BayesianNetwork(nn.Module):\n",
    "        def __init__(self, input_dim, output_dim):\n",
    "            super().__init__()\n",
    "            self.bl1 = BayesLinear(input_dim, 1200, prior_pi, prior_sigma1, prior_sigma2)\n",
    "            self.bl2 = BayesLinear(1200, 1200, prior_pi, prior_sigma1, prior_sigma2)\n",
    "            self.bl3 = BayesLinear(1200, output_dim, prior_pi, prior_sigma1, prior_sigma2)\n",
    "\n",
    "        def forward(self, x):\n",
    "            x = x.view(-1, 28 * 28)\n",
    "\n",
    "            x = F.relu(self.bl1(x))\n",
    "            x = F.relu(self.bl2(x))\n",
    "            x = self.bl3(x)\n",
    "\n",
    "            return x\n",
    "\n",
    "    model = BayesianNetwork(28 * 28, 10).to(device)\n",
    "\n",
    "    optimizer = torch.optim.Adam(model.parameters(), lr=learning_rate)\n",
    "    criterion = nn.CrossEntropyLoss(reduction='sum')\n",
    "\n",
    "\n",
    "    min_test_loss = np.Inf\n",
    "    for epoch in range(epochs):\n",
    "\n",
    "        train_loss = 0.0\n",
    "        val_loss = 0.0\n",
    "\n",
    "        model.train()\n",
    "        for batch_idx, (data, labels) in enumerate(trainloader):\n",
    "            data, labels = data.to(device), labels.to(device)\n",
    "\n",
    "            optimizer.zero_grad()\n",
    "\n",
    "            pi_weight = minibatch_weight(batch_idx=batch_idx, num_batches=128)\n",
    "\n",
    "            loss = model.elbo(\n",
    "                inputs=data,\n",
    "                targets=labels,\n",
    "                criterion=criterion,\n",
    "                n_samples=3,\n",
    "                w_complexity=pi_weight\n",
    "            )\n",
    "\n",
    "            train_loss += loss.item() * data.size(0)\n",
    "\n",
    "            loss.backward()\n",
    "            optimizer.step()\n",
    "\n",
    "        correct = 0\n",
    "        total = 0\n",
    "\n",
    "        model.eval()\n",
    "        with torch.no_grad():\n",
    "            for batch_idx, (data, labels) in enumerate(testloader):\n",
    "                data, labels = data.to(device), labels.to(device)\n",
    "\n",
    "                outputs = model(data)\n",
    "\n",
    "                pi_weight = minibatch_weight(batch_idx=batch_idx, num_batches=128)\n",
    "\n",
    "                loss = model.elbo(\n",
    "                    inputs=data,\n",
    "                    targets=labels,\n",
    "                    criterion=criterion,\n",
    "                    n_samples=3,\n",
    "                    w_complexity=pi_weight\n",
    "                )\n",
    "\n",
    "                val_loss += loss.item() * data.size(0)\n",
    "\n",
    "                probabilities = F.softmax(outputs)\n",
    "                _, predicted = torch.max(probabilities.data, 1)\n",
    "\n",
    "                total += labels.size(0)\n",
    "                correct += torch.eq(predicted, labels).sum().item()\n",
    "\n",
    "        accuracy_val = correct / total\n",
    "        train_loss /= len(trainloader.dataset)\n",
    "        val_loss /= len(testloader.dataset)\n",
    "\n",
    "        metrics = {'train_loss': train_loss, 'val_loss': val_loss, 'accuracy_val': accuracy_val, \"test_error_val\": (1 - accuracy_val)  }\n",
    "        wandb.log(metrics)\n"
   ]
  },
  {
   "cell_type": "code",
   "execution_count": 13,
   "id": "b0fe5152",
   "metadata": {
    "execution": {
     "iopub.execute_input": "2025-06-10T08:41:09.902366Z",
     "iopub.status.busy": "2025-06-10T08:41:09.902066Z",
     "iopub.status.idle": "2025-06-10T08:41:09.907140Z",
     "shell.execute_reply": "2025-06-10T08:41:09.906117Z"
    },
    "papermill": {
     "duration": 0.016454,
     "end_time": "2025-06-10T08:41:09.908702",
     "exception": false,
     "start_time": "2025-06-10T08:41:09.892248",
     "status": "completed"
    },
    "tags": []
   },
   "outputs": [],
   "source": [
    "def train_wrapper():\n",
    "\n",
    "    return train_loop(\n",
    "        learning_rate = wandb.config.learning_rate,\n",
    "        prior_pi = wandb.config.prior_pi,\n",
    "        prior_sigma1=wandb.config.prior_sigma1,\n",
    "        prior_sigma2=wandb.config.prior_sigma2\n",
    "    )"
   ]
  },
  {
   "cell_type": "markdown",
   "id": "eadf67fa",
   "metadata": {
    "papermill": {
     "duration": 0.005035,
     "end_time": "2025-06-10T08:41:09.918947",
     "exception": false,
     "start_time": "2025-06-10T08:41:09.913912",
     "status": "completed"
    },
    "tags": []
   },
   "source": [
    "### Tuning Hyperparamters"
   ]
  },
  {
   "cell_type": "code",
   "execution_count": 14,
   "id": "b9113346",
   "metadata": {
    "execution": {
     "iopub.execute_input": "2025-06-10T08:41:09.929795Z",
     "iopub.status.busy": "2025-06-10T08:41:09.929545Z",
     "iopub.status.idle": "2025-06-10T08:41:09.933366Z",
     "shell.execute_reply": "2025-06-10T08:41:09.932886Z"
    },
    "papermill": {
     "duration": 0.010267,
     "end_time": "2025-06-10T08:41:09.934234",
     "exception": false,
     "start_time": "2025-06-10T08:41:09.923967",
     "status": "completed"
    },
    "tags": []
   },
   "outputs": [],
   "source": [
    "sweep_configuration = {\n",
    "     \"method\": \"grid\",\n",
    "     \"metric\": {\"goal\": \"minimize\", \"name\": \"val_loss\"},\n",
    "     'name': \"sweep-BBB-Gaussian\",\n",
    "     \"parameters\": {\n",
    "         \"learning_rate\": {'values': [1e-3]},\n",
    "         \"prior_pi\": {'values': [0.25, 0.5, 0.75]},\n",
    "         \"prior_sigma1\": {'values': [1, math.exp(-1), math.exp(-2)]},\n",
    "         \"prior_sigma2\": {'values': [math.exp(-6), math.exp(-7), math.exp(-8)]},\n",
    "     },\n",
    "}\n",
    "\n",
    "#sweep_id = wandb.sweep(sweep=sweep_configuration, project=\"Project-ASI\")\n",
    "#wandb.agent(sweep_id, function=train_wrapper);"
   ]
  },
  {
   "cell_type": "code",
   "execution_count": 15,
   "id": "5b46b61c",
   "metadata": {
    "execution": {
     "iopub.execute_input": "2025-06-10T08:41:09.945206Z",
     "iopub.status.busy": "2025-06-10T08:41:09.945023Z",
     "iopub.status.idle": "2025-06-10T08:41:09.948866Z",
     "shell.execute_reply": "2025-06-10T08:41:09.948364Z"
    },
    "papermill": {
     "duration": 0.010519,
     "end_time": "2025-06-10T08:41:09.949883",
     "exception": false,
     "start_time": "2025-06-10T08:41:09.939364",
     "status": "completed"
    },
    "tags": []
   },
   "outputs": [],
   "source": [
    "sweep_configuration = {\n",
    "     \"method\": \"grid\",\n",
    "     \"metric\": {\"goal\": \"minimize\", \"name\": \"val_loss\"},\n",
    "     'name': \"sweep-BBB-Gaussian\",\n",
    "     \"parameters\": {\n",
    "         \"learning_rate\": {'values': [1e-4]},\n",
    "         \"prior_pi\": {'values': [0.25, 0.5, 0.75]},\n",
    "         \"prior_sigma1\": {'values': [1, math.exp(-1), math.exp(-2)]},\n",
    "         \"prior_sigma2\": {'values': [math.exp(-6), math.exp(-7), math.exp(-8)]},\n",
    "     },\n",
    "}\n",
    "\n",
    "#sweep_id = wandb.sweep(sweep=sweep_configuration, project=\"Project-ASI\")\n",
    "#wandb.agent(sweep_id, function=train_wrapper);"
   ]
  },
  {
   "cell_type": "markdown",
   "id": "e96de66e",
   "metadata": {
    "papermill": {
     "duration": 0.004994,
     "end_time": "2025-06-10T08:41:09.959975",
     "exception": false,
     "start_time": "2025-06-10T08:41:09.954981",
     "status": "completed"
    },
    "tags": []
   },
   "source": [
    "### Best Hyperparamters"
   ]
  },
  {
   "cell_type": "code",
   "execution_count": 16,
   "id": "7c380a52",
   "metadata": {
    "execution": {
     "iopub.execute_input": "2025-06-10T08:41:09.971279Z",
     "iopub.status.busy": "2025-06-10T08:41:09.970882Z",
     "iopub.status.idle": "2025-06-10T08:41:09.973858Z",
     "shell.execute_reply": "2025-06-10T08:41:09.973360Z"
    },
    "papermill": {
     "duration": 0.009991,
     "end_time": "2025-06-10T08:41:09.974936",
     "exception": false,
     "start_time": "2025-06-10T08:41:09.964945",
     "status": "completed"
    },
    "tags": []
   },
   "outputs": [],
   "source": [
    "best_hyperparameters = {'learning_rate' : 1e-3, 'prior_pi' : 0.5, 'prior_sigma1' : 1.0, 'prior_sigma2' : math.exp(-7)}"
   ]
  },
  {
   "cell_type": "markdown",
   "id": "e60ebdbd",
   "metadata": {
    "papermill": {
     "duration": 0.004853,
     "end_time": "2025-06-10T08:41:09.984899",
     "exception": false,
     "start_time": "2025-06-10T08:41:09.980046",
     "status": "completed"
    },
    "tags": []
   },
   "source": [
    "### Train-Test Hyperparamters"
   ]
  },
  {
   "cell_type": "code",
   "execution_count": 17,
   "id": "211c0eed",
   "metadata": {
    "execution": {
     "iopub.execute_input": "2025-06-10T08:41:09.995758Z",
     "iopub.status.busy": "2025-06-10T08:41:09.995537Z",
     "iopub.status.idle": "2025-06-10T12:09:06.241915Z",
     "shell.execute_reply": "2025-06-10T12:09:06.240825Z"
    },
    "papermill": {
     "duration": 12476.253954,
     "end_time": "2025-06-10T12:09:06.243803",
     "exception": false,
     "start_time": "2025-06-10T08:41:09.989849",
     "status": "completed"
    },
    "tags": []
   },
   "outputs": [
    {
     "name": "stderr",
     "output_type": "stream",
     "text": [
      "\u001b[34m\u001b[1mwandb\u001b[0m: Tracking run with wandb version 0.19.9\n",
      "\u001b[34m\u001b[1mwandb\u001b[0m: Run data is saved locally in \u001b[35m\u001b[1m/kaggle/working/wandb/run-20250610_084110-oolhbnw6\u001b[0m\n",
      "\u001b[34m\u001b[1mwandb\u001b[0m: Run \u001b[1m`wandb offline`\u001b[0m to turn off syncing.\n",
      "\u001b[34m\u001b[1mwandb\u001b[0m: Syncing run \u001b[33mrosy-aardvark-190\u001b[0m\n",
      "\u001b[34m\u001b[1mwandb\u001b[0m: ⭐️ View project at \u001b[34m\u001b[4mhttps://wandb.ai/miriam-lamari2-eurecom/Project-ASI\u001b[0m\n",
      "\u001b[34m\u001b[1mwandb\u001b[0m: 🚀 View run at \u001b[34m\u001b[4mhttps://wandb.ai/miriam-lamari2-eurecom/Project-ASI/runs/oolhbnw6\u001b[0m\n",
      "/tmp/ipykernel_18/2225691380.py:74: UserWarning: Implicit dimension choice for softmax has been deprecated. Change the call to include dim=X as an argument.\n",
      "  probabilities = F.softmax(outputs)\n"
     ]
    }
   ],
   "source": [
    "wandb.init(project=\"Project-ASI\")\n",
    "wandb.run.log_code = False\n",
    "\n",
    "train_loop(\n",
    "    learning_rate = best_hyperparameters['learning_rate'],\n",
    "    prior_pi = best_hyperparameters['prior_pi'],\n",
    "    prior_sigma1 = best_hyperparameters['prior_sigma1'],\n",
    "    prior_sigma2 = best_hyperparameters['prior_sigma2'],\n",
    "    epochs = 200\n",
    ")"
   ]
  }
 ],
 "metadata": {
  "kaggle": {
   "accelerator": "gpu",
   "dataSources": [],
   "dockerImageVersionId": 31041,
   "isGpuEnabled": true,
   "isInternetEnabled": true,
   "language": "python",
   "sourceType": "notebook"
  },
  "kernelspec": {
   "display_name": "Python 3",
   "language": "python",
   "name": "python3"
  },
  "language_info": {
   "codemirror_mode": {
    "name": "ipython",
    "version": 3
   },
   "file_extension": ".py",
   "mimetype": "text/x-python",
   "name": "python",
   "nbconvert_exporter": "python",
   "pygments_lexer": "ipython3",
   "version": "3.11.11"
  },
  "papermill": {
   "default_parameters": {},
   "duration": 12506.847544,
   "end_time": "2025-06-10T12:09:08.978275",
   "environment_variables": {},
   "exception": null,
   "input_path": "__notebook__.ipynb",
   "output_path": "__notebook__.ipynb",
   "parameters": {},
   "start_time": "2025-06-10T08:40:42.130731",
   "version": "2.6.0"
  }
 },
 "nbformat": 4,
 "nbformat_minor": 5
}
