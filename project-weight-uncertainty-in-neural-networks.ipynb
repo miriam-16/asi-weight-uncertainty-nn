{
 "cells": [
  {
   "cell_type": "markdown",
   "id": "b1e505a4",
   "metadata": {
    "papermill": {
     "duration": 0.004564,
     "end_time": "2025-06-10T13:27:40.207773",
     "exception": false,
     "start_time": "2025-06-10T13:27:40.203209",
     "status": "completed"
    },
    "tags": []
   },
   "source": [
    "# [ASI Project] Weight Uncertainty in Neural Networks  \n",
    "**Authors**: Miriam Lamari, Francesco Giannuzzo  \n"
   ]
  },
  {
   "cell_type": "code",
   "execution_count": 1,
   "id": "33af8f77",
   "metadata": {
    "execution": {
     "iopub.execute_input": "2025-06-10T13:27:40.216727Z",
     "iopub.status.busy": "2025-06-10T13:27:40.216230Z",
     "iopub.status.idle": "2025-06-10T13:27:51.772223Z",
     "shell.execute_reply": "2025-06-10T13:27:51.771430Z"
    },
    "papermill": {
     "duration": 11.562051,
     "end_time": "2025-06-10T13:27:51.773716",
     "exception": false,
     "start_time": "2025-06-10T13:27:40.211665",
     "status": "completed"
    },
    "tags": []
   },
   "outputs": [],
   "source": [
    "import csv\n",
    "import math\n",
    "import functools as ft\n",
    "from typing import Any, Optional\n",
    "\n",
    "import numpy as np\n",
    "import torch\n",
    "import torch.nn as nn\n",
    "import torch.nn.functional as F\n",
    "from torch import Tensor\n",
    "from torch.utils.data import DataLoader, random_split\n",
    "from torchvision import datasets, transforms\n",
    "from kaggle_secrets import UserSecretsClient\n",
    "import wandb\n"
   ]
  },
  {
   "cell_type": "markdown",
   "id": "f8929292",
   "metadata": {
    "papermill": {
     "duration": 0.003638,
     "end_time": "2025-06-10T13:27:51.781317",
     "exception": false,
     "start_time": "2025-06-10T13:27:51.777679",
     "status": "completed"
    },
    "tags": []
   },
   "source": [
    "### Wandb utility code"
   ]
  },
  {
   "cell_type": "code",
   "execution_count": 2,
   "id": "5d3f9510",
   "metadata": {
    "execution": {
     "iopub.execute_input": "2025-06-10T13:27:51.789623Z",
     "iopub.status.busy": "2025-06-10T13:27:51.789231Z",
     "iopub.status.idle": "2025-06-10T13:27:52.463541Z",
     "shell.execute_reply": "2025-06-10T13:27:52.462883Z"
    },
    "papermill": {
     "duration": 0.679837,
     "end_time": "2025-06-10T13:27:52.464743",
     "exception": false,
     "start_time": "2025-06-10T13:27:51.784906",
     "status": "completed"
    },
    "tags": []
   },
   "outputs": [
    {
     "name": "stderr",
     "output_type": "stream",
     "text": [
      "\u001b[34m\u001b[1mwandb\u001b[0m: Using wandb-core as the SDK backend.  Please refer to https://wandb.me/wandb-core for more information.\n",
      "\u001b[34m\u001b[1mwandb\u001b[0m: \u001b[33mWARNING\u001b[0m If you're specifying your api key in code, ensure this code is not shared publicly.\n",
      "\u001b[34m\u001b[1mwandb\u001b[0m: \u001b[33mWARNING\u001b[0m Consider setting the WANDB_API_KEY environment variable, or running `wandb login` from the command line.\n",
      "\u001b[34m\u001b[1mwandb\u001b[0m: No netrc file found, creating one.\n",
      "\u001b[34m\u001b[1mwandb\u001b[0m: Appending key for api.wandb.ai to your netrc file: /root/.netrc\n",
      "\u001b[34m\u001b[1mwandb\u001b[0m: Currently logged in as: \u001b[33mfrancescogiannuzzo2002-fg\u001b[0m (\u001b[33mmiriam-lamari2-eurecom\u001b[0m) to \u001b[32mhttps://api.wandb.ai\u001b[0m. Use \u001b[1m`wandb login --relogin`\u001b[0m to force relogin\n"
     ]
    },
    {
     "data": {
      "text/plain": [
       "True"
      ]
     },
     "execution_count": 2,
     "metadata": {},
     "output_type": "execute_result"
    }
   ],
   "source": [
    "user_secrets = UserSecretsClient()\n",
    "key = user_secrets.get_secret('wandb-api-key')\n",
    "\n",
    "wandb.login(key=key)"
   ]
  },
  {
   "cell_type": "markdown",
   "id": "9d2febe7",
   "metadata": {
    "papermill": {
     "duration": 0.003977,
     "end_time": "2025-06-10T13:27:52.473057",
     "exception": false,
     "start_time": "2025-06-10T13:27:52.469080",
     "status": "completed"
    },
    "tags": []
   },
   "source": [
    "## Minibatches "
   ]
  },
  {
   "cell_type": "code",
   "execution_count": 3,
   "id": "714246c1",
   "metadata": {
    "execution": {
     "iopub.execute_input": "2025-06-10T13:27:52.482437Z",
     "iopub.status.busy": "2025-06-10T13:27:52.482189Z",
     "iopub.status.idle": "2025-06-10T13:27:52.486245Z",
     "shell.execute_reply": "2025-06-10T13:27:52.485519Z"
    },
    "papermill": {
     "duration": 0.009917,
     "end_time": "2025-06-10T13:27:52.487301",
     "exception": false,
     "start_time": "2025-06-10T13:27:52.477384",
     "status": "completed"
    },
    "tags": []
   },
   "outputs": [],
   "source": [
    "def minibatch_weight(batch_idx: int, num_batches: int) -> float:\n",
    "    return 2 ** (num_batches - batch_idx) / (2 ** num_batches - 1) # definition of pi_i"
   ]
  },
  {
   "cell_type": "markdown",
   "id": "cc525332",
   "metadata": {
    "papermill": {
     "duration": 0.003942,
     "end_time": "2025-06-10T13:27:52.495146",
     "exception": false,
     "start_time": "2025-06-10T13:27:52.491204",
     "status": "completed"
    },
    "tags": []
   },
   "source": [
    "## Variational Approximation"
   ]
  },
  {
   "cell_type": "code",
   "execution_count": 4,
   "id": "2e691795",
   "metadata": {
    "execution": {
     "iopub.execute_input": "2025-06-10T13:27:52.504498Z",
     "iopub.status.busy": "2025-06-10T13:27:52.504064Z",
     "iopub.status.idle": "2025-06-10T13:27:52.509779Z",
     "shell.execute_reply": "2025-06-10T13:27:52.509093Z"
    },
    "papermill": {
     "duration": 0.01176,
     "end_time": "2025-06-10T13:27:52.510840",
     "exception": false,
     "start_time": "2025-06-10T13:27:52.499080",
     "status": "completed"
    },
    "tags": []
   },
   "outputs": [],
   "source": [
    "# Base class for BNN to enable certain behaviour\n",
    "class BayesianModule(nn.Module):\n",
    "\n",
    "    def __init__(self):\n",
    "        super().__init__()\n",
    "\n",
    "    def kld(self, *args):\n",
    "        raise NotImplementedError('BayesianModule::kld()')\n",
    "\n",
    "\n",
    "# Variational approximator for Bayesian Neural Networks\n",
    "def variational_approximator(model: nn.Module) -> nn.Module:\n",
    "\n",
    "    def kl_divergence(self) -> Tensor:\n",
    "        kl = 0\n",
    "        for module in self.modules():\n",
    "            if isinstance(module, BayesianModule):\n",
    "                kl += module.kl_divergence\n",
    "\n",
    "        return kl\n",
    "\n",
    "    def elbo(self, inputs: Tensor, targets: Tensor, criterion: Any, n_samples: int, w_complexity: Optional[float] = 1.0) -> Tensor:\n",
    "        loss = 0\n",
    "        for _ in range(n_samples):\n",
    "            outputs = self(inputs)\n",
    "            loss += criterion(outputs, targets)\n",
    "            loss += self.kl_divergence() * w_complexity\n",
    "\n",
    "        return loss / n_samples\n",
    "\n",
    "    # include `kl_divergence` function to the model\n",
    "    setattr(model, 'kl_divergence', kl_divergence)\n",
    "\n",
    "    # include `elbo` function to the model\n",
    "    setattr(model, 'elbo', elbo)\n",
    "\n",
    "    return model\n"
   ]
  },
  {
   "cell_type": "markdown",
   "id": "235e0282",
   "metadata": {
    "papermill": {
     "duration": 0.003709,
     "end_time": "2025-06-10T13:27:52.518499",
     "exception": false,
     "start_time": "2025-06-10T13:27:52.514790",
     "status": "completed"
    },
    "tags": []
   },
   "source": [
    "## Scale Mixture Prior"
   ]
  },
  {
   "cell_type": "code",
   "execution_count": 5,
   "id": "e2b72da5",
   "metadata": {
    "execution": {
     "iopub.execute_input": "2025-06-10T13:27:52.526952Z",
     "iopub.status.busy": "2025-06-10T13:27:52.526760Z",
     "iopub.status.idle": "2025-06-10T13:27:52.531335Z",
     "shell.execute_reply": "2025-06-10T13:27:52.530855Z"
    },
    "papermill": {
     "duration": 0.009984,
     "end_time": "2025-06-10T13:27:52.532324",
     "exception": false,
     "start_time": "2025-06-10T13:27:52.522340",
     "status": "completed"
    },
    "tags": []
   },
   "outputs": [],
   "source": [
    "# Scale Mixture Prior for Bayesian Neural Networks\n",
    "class ScaleMixture(nn.Module):\n",
    "    def __init__(self, pi: float, sigma1: float, sigma2: float) -> None:\n",
    "        super().__init__()\n",
    "\n",
    "        self.pi = pi\n",
    "        self.sigma1 = sigma1\n",
    "        self.sigma2 = sigma2\n",
    "\n",
    "        self.normal1 = torch.distributions.Normal(0, sigma1)\n",
    "        self.normal2 = torch.distributions.Normal(0, sigma2)\n",
    "\n",
    "    def log_prior(self, w: Tensor) -> Tensor:\n",
    "        likelihood_n1 = torch.exp(self.normal1.log_prob(w))\n",
    "        likelihood_n2 = torch.exp(self.normal2.log_prob(w))\n",
    "\n",
    "        p_scalemixture = self.pi * likelihood_n1 + (1 - self.pi) * likelihood_n2\n",
    "\n",
    "        log_prob = torch.log(p_scalemixture).sum()\n",
    "\n",
    "        return log_prob"
   ]
  },
  {
   "cell_type": "markdown",
   "id": "d56cdb47",
   "metadata": {
    "papermill": {
     "duration": 0.003829,
     "end_time": "2025-06-10T13:27:52.540052",
     "exception": false,
     "start_time": "2025-06-10T13:27:52.536223",
     "status": "completed"
    },
    "tags": []
   },
   "source": [
    "### Variant: log-sum-exp rather than log"
   ]
  },
  {
   "cell_type": "code",
   "execution_count": 6,
   "id": "1f9d87d9",
   "metadata": {
    "execution": {
     "iopub.execute_input": "2025-06-10T13:27:52.548637Z",
     "iopub.status.busy": "2025-06-10T13:27:52.548443Z",
     "iopub.status.idle": "2025-06-10T13:27:52.553248Z",
     "shell.execute_reply": "2025-06-10T13:27:52.552594Z"
    },
    "papermill": {
     "duration": 0.010248,
     "end_time": "2025-06-10T13:27:52.554353",
     "exception": false,
     "start_time": "2025-06-10T13:27:52.544105",
     "status": "completed"
    },
    "tags": []
   },
   "outputs": [],
   "source": [
    "# Scale Mixture Prior for Bayesian Neural Networks\n",
    "class ScaleMixture(nn.Module):\n",
    "    def __init__(self, pi: float, sigma1: float, sigma2: float) -> None:\n",
    "        super().__init__()\n",
    "        self.pi = pi\n",
    "        self.sigma1 = sigma1\n",
    "        self.sigma2 = sigma2\n",
    "\n",
    "        self.normal1 = torch.distributions.Normal(0, sigma1)\n",
    "        self.normal2 = torch.distributions.Normal(0, sigma2)\n",
    "\n",
    "    def log_prior(self, w: Tensor) -> Tensor:\n",
    "        log_prob_n1 = self.normal1.log_prob(w)\n",
    "        log_prob_n2 = self.normal2.log_prob(w)\n",
    "    \n",
    "        pi = torch.tensor(self.pi, device=w.device)\n",
    "        log_mix1 = torch.log(pi) + log_prob_n1\n",
    "        log_mix2 = torch.log(1.0 - pi) + log_prob_n2\n",
    "    \n",
    "        # Stable log-sum-exp over the two components\n",
    "        log_prob = torch.logsumexp(torch.stack([log_mix1, log_mix2]), dim=0).sum()\n",
    "        return log_prob\n"
   ]
  },
  {
   "cell_type": "markdown",
   "id": "09bc38f3",
   "metadata": {
    "papermill": {
     "duration": 0.003714,
     "end_time": "2025-06-10T13:27:52.561985",
     "exception": false,
     "start_time": "2025-06-10T13:27:52.558271",
     "status": "completed"
    },
    "tags": []
   },
   "source": [
    "## Gaussian Variational Inference"
   ]
  },
  {
   "cell_type": "code",
   "execution_count": 7,
   "id": "964a0067",
   "metadata": {
    "execution": {
     "iopub.execute_input": "2025-06-10T13:27:52.570642Z",
     "iopub.status.busy": "2025-06-10T13:27:52.570415Z",
     "iopub.status.idle": "2025-06-10T13:27:52.576923Z",
     "shell.execute_reply": "2025-06-10T13:27:52.576411Z"
    },
    "papermill": {
     "duration": 0.011862,
     "end_time": "2025-06-10T13:27:52.577884",
     "exception": false,
     "start_time": "2025-06-10T13:27:52.566022",
     "status": "completed"
    },
    "tags": []
   },
   "outputs": [],
   "source": [
    "# Gaussian Variational Approximation for Bayesian Neural Networks\n",
    "class GaussianVariational(nn.Module):\n",
    "    def __init__(self, mu: Tensor, rho: Tensor) -> None:\n",
    "        super().__init__()\n",
    "\n",
    "        self.mu = nn.Parameter(mu)\n",
    "        self.rho = nn.Parameter(rho)\n",
    "\n",
    "        self.w = None\n",
    "        self.sigma = None\n",
    "\n",
    "        self.normal = torch.distributions.Normal(0, 1)\n",
    "\n",
    "    def sample(self) -> Tensor:\n",
    "        device = self.mu.device\n",
    "        epsilon = self.normal.sample(self.mu.size()).to(device)\n",
    "        self.sigma = torch.log(1 + torch.exp(self.rho)).to(device)\n",
    "        self.w = self.mu + self.sigma * epsilon\n",
    "        return self.w\n",
    "\n",
    "    def log_posterior(self) -> Tensor:\n",
    "        if self.w is None:\n",
    "            raise ValueError('self.w must have a value.')\n",
    "\n",
    "        log_const = np.log(np.sqrt(2 * np.pi))\n",
    "        log_exp = ((self.w - self.mu) ** 2) / (2 * self.sigma ** 2)\n",
    "        log_posterior = -log_const - torch.log(self.sigma) - log_exp\n",
    "\n",
    "        return log_posterior.sum()"
   ]
  },
  {
   "cell_type": "markdown",
   "id": "ddf4233d",
   "metadata": {
    "papermill": {
     "duration": 0.003698,
     "end_time": "2025-06-10T13:27:52.585438",
     "exception": false,
     "start_time": "2025-06-10T13:27:52.581740",
     "status": "completed"
    },
    "tags": []
   },
   "source": [
    "## Bayesian Linear Layer ##"
   ]
  },
  {
   "cell_type": "code",
   "execution_count": 8,
   "id": "aa1ac735",
   "metadata": {
    "execution": {
     "iopub.execute_input": "2025-06-10T13:27:52.594219Z",
     "iopub.status.busy": "2025-06-10T13:27:52.593691Z",
     "iopub.status.idle": "2025-06-10T13:27:52.599823Z",
     "shell.execute_reply": "2025-06-10T13:27:52.599332Z"
    },
    "papermill": {
     "duration": 0.011582,
     "end_time": "2025-06-10T13:27:52.600870",
     "exception": false,
     "start_time": "2025-06-10T13:27:52.589288",
     "status": "completed"
    },
    "tags": []
   },
   "outputs": [],
   "source": [
    "# Bayesian Linear Layer\n",
    "class BayesLinear(BayesianModule):\n",
    "\n",
    "    def __init__(self,\n",
    "                 in_features: int,\n",
    "                 out_features: int,\n",
    "                 prior_pi: Optional[float] = 0.5,\n",
    "                 prior_sigma1: Optional[float] = 1.0,\n",
    "                 prior_sigma2: Optional[float] = 0.0025) -> None:\n",
    "\n",
    "        super().__init__()\n",
    "\n",
    "        w_mu = torch.empty(out_features, in_features).uniform_(-0.2, 0.2)\n",
    "        w_rho = torch.empty(out_features, in_features).uniform_(-5.0, -4.0)\n",
    "\n",
    "        bias_mu = torch.empty(out_features).uniform_(-0.2, 0.2)\n",
    "        bias_rho = torch.empty(out_features).uniform_(-5.0, -4.0)\n",
    "\n",
    "        self.w_posterior = GaussianVariational(w_mu, w_rho)\n",
    "        self.bias_posterior = GaussianVariational(bias_mu, bias_rho)\n",
    "\n",
    "        self.w_prior = ScaleMixture(prior_pi, prior_sigma1, prior_sigma2)\n",
    "        self.bias_prior = ScaleMixture(prior_pi, prior_sigma1, prior_sigma2)\n",
    "\n",
    "        self.kl_divergence = 0.0\n",
    "\n",
    "    def kld(self, log_prior: Tensor, log_posterior: Tensor) -> Tensor:\n",
    "        return log_posterior - log_prior\n",
    "\n",
    "    def forward(self, x: Tensor) -> Tensor:\n",
    "\n",
    "        w = self.w_posterior.sample()\n",
    "        b = self.bias_posterior.sample()\n",
    "\n",
    "        w_log_prior = self.w_prior.log_prior(w)\n",
    "        b_log_prior = self.bias_prior.log_prior(b)\n",
    "\n",
    "        w_log_posterior = self.w_posterior.log_posterior()\n",
    "        b_log_posterior = self.bias_posterior.log_posterior()\n",
    "\n",
    "        total_log_prior = w_log_prior + b_log_prior\n",
    "        total_log_posterior = w_log_posterior + b_log_posterior\n",
    "        self.kl_divergence = self.kld(total_log_prior, total_log_posterior)\n",
    "\n",
    "        return F.linear(x, w, b)"
   ]
  },
  {
   "cell_type": "code",
   "execution_count": 9,
   "id": "3ef8869b",
   "metadata": {
    "execution": {
     "iopub.execute_input": "2025-06-10T13:27:52.609403Z",
     "iopub.status.busy": "2025-06-10T13:27:52.609214Z",
     "iopub.status.idle": "2025-06-10T13:27:52.666373Z",
     "shell.execute_reply": "2025-06-10T13:27:52.665857Z"
    },
    "papermill": {
     "duration": 0.062476,
     "end_time": "2025-06-10T13:27:52.667364",
     "exception": false,
     "start_time": "2025-06-10T13:27:52.604888",
     "status": "completed"
    },
    "tags": []
   },
   "outputs": [],
   "source": [
    "device = torch.device('cuda' if torch.cuda.is_available() else 'cpu')\n",
    "kwargs = {'num_workers': 1, 'pin_memory': True} if device == 'cuda' else {}\n",
    "\n",
    "# define transforms\n",
    "transform = transforms.Compose([\n",
    "    transforms.ToTensor(),\n",
    "    transforms.Normalize((0.1307,), (0.3081,))\n",
    "])\n"
   ]
  },
  {
   "cell_type": "markdown",
   "id": "c20ed25e",
   "metadata": {
    "papermill": {
     "duration": 0.003795,
     "end_time": "2025-06-10T13:27:52.675237",
     "exception": false,
     "start_time": "2025-06-10T13:27:52.671442",
     "status": "completed"
    },
    "tags": []
   },
   "source": [
    "### Load data for tuning"
   ]
  },
  {
   "cell_type": "code",
   "execution_count": 10,
   "id": "eb9a2069",
   "metadata": {
    "execution": {
     "iopub.execute_input": "2025-06-10T13:27:52.684008Z",
     "iopub.status.busy": "2025-06-10T13:27:52.683453Z",
     "iopub.status.idle": "2025-06-10T13:27:52.687510Z",
     "shell.execute_reply": "2025-06-10T13:27:52.687021Z"
    },
    "papermill": {
     "duration": 0.009411,
     "end_time": "2025-06-10T13:27:52.688518",
     "exception": false,
     "start_time": "2025-06-10T13:27:52.679107",
     "status": "completed"
    },
    "tags": []
   },
   "outputs": [
    {
     "data": {
      "text/plain": [
       "\"\\n\\nfull_trainset = datasets.MNIST('./data', train=True, download=True, transform=transform)\\n\\n#train val split\\n\\ntrain_size = 50000\\nval_size = 10000\\ntrainset, valset = random_split(full_trainset, [train_size, val_size])\\n\\nkwargs = {'shuffle': True, 'num_workers': 2, 'pin_memory': True}\\ntrainloader = DataLoader(trainset, batch_size=128, **kwargs)\\nvalloader = DataLoader(valset, batch_size=128, **kwargs)\\n\\ntestset = datasets.MNIST('./data', train=False, download=True, transform=transform)\\ntestloader = DataLoader(testset, batch_size=128, **kwargs)\\n\\n\""
      ]
     },
     "execution_count": 10,
     "metadata": {},
     "output_type": "execute_result"
    }
   ],
   "source": [
    "\"\"\"\n",
    "\n",
    "full_trainset = datasets.MNIST('./data', train=True, download=True, transform=transform)\n",
    "\n",
    "#train val split\n",
    "\n",
    "train_size = 50000\n",
    "val_size = 10000\n",
    "trainset, valset = random_split(full_trainset, [train_size, val_size])\n",
    "\n",
    "kwargs = {'shuffle': True, 'num_workers': 2, 'pin_memory': True}\n",
    "trainloader = DataLoader(trainset, batch_size=128, **kwargs)\n",
    "valloader = DataLoader(valset, batch_size=128, **kwargs)\n",
    "\n",
    "testset = datasets.MNIST('./data', train=False, download=True, transform=transform)\n",
    "testloader = DataLoader(testset, batch_size=128, **kwargs)\n",
    "\n",
    "\"\"\""
   ]
  },
  {
   "cell_type": "markdown",
   "id": "a97facd0",
   "metadata": {
    "papermill": {
     "duration": 0.0038,
     "end_time": "2025-06-10T13:27:52.696413",
     "exception": false,
     "start_time": "2025-06-10T13:27:52.692613",
     "status": "completed"
    },
    "tags": []
   },
   "source": [
    "### Load data for train-test"
   ]
  },
  {
   "cell_type": "code",
   "execution_count": 11,
   "id": "6f7a307d",
   "metadata": {
    "execution": {
     "iopub.execute_input": "2025-06-10T13:27:52.705131Z",
     "iopub.status.busy": "2025-06-10T13:27:52.704939Z",
     "iopub.status.idle": "2025-06-10T13:27:54.358624Z",
     "shell.execute_reply": "2025-06-10T13:27:54.357845Z"
    },
    "papermill": {
     "duration": 1.659604,
     "end_time": "2025-06-10T13:27:54.360009",
     "exception": false,
     "start_time": "2025-06-10T13:27:52.700405",
     "status": "completed"
    },
    "tags": []
   },
   "outputs": [
    {
     "name": "stderr",
     "output_type": "stream",
     "text": [
      "100%|██████████| 9.91M/9.91M [00:00<00:00, 64.7MB/s]\n",
      "100%|██████████| 28.9k/28.9k [00:00<00:00, 1.67MB/s]\n",
      "100%|██████████| 1.65M/1.65M [00:00<00:00, 15.0MB/s]\n",
      "100%|██████████| 4.54k/4.54k [00:00<00:00, 8.24MB/s]\n"
     ]
    }
   ],
   "source": [
    "full_trainset = datasets.MNIST('./data', train=True, download=True, transform=transform)\n",
    "\n",
    "#train-test split\n",
    "\n",
    "trainset = full_trainset\n",
    "\n",
    "kwargs = {'shuffle': True, 'num_workers': 2, 'pin_memory': True}\n",
    "trainloader = DataLoader(trainset, batch_size=128, **kwargs)\n",
    "\n",
    "testset = datasets.MNIST('./data', train=False, download=True, transform=transform)\n",
    "testloader = DataLoader(testset, batch_size=128, **kwargs)\n"
   ]
  },
  {
   "cell_type": "markdown",
   "id": "4806752d",
   "metadata": {
    "papermill": {
     "duration": 0.004433,
     "end_time": "2025-06-10T13:27:54.369330",
     "exception": false,
     "start_time": "2025-06-10T13:27:54.364897",
     "status": "completed"
    },
    "tags": []
   },
   "source": [
    "### Define Train loop"
   ]
  },
  {
   "cell_type": "code",
   "execution_count": 12,
   "id": "37117dc5",
   "metadata": {
    "execution": {
     "iopub.execute_input": "2025-06-10T13:27:54.379358Z",
     "iopub.status.busy": "2025-06-10T13:27:54.379122Z",
     "iopub.status.idle": "2025-06-10T13:27:54.388654Z",
     "shell.execute_reply": "2025-06-10T13:27:54.388083Z"
    },
    "papermill": {
     "duration": 0.015795,
     "end_time": "2025-06-10T13:27:54.389655",
     "exception": false,
     "start_time": "2025-06-10T13:27:54.373860",
     "status": "completed"
    },
    "tags": []
   },
   "outputs": [],
   "source": [
    "def train_loop(learning_rate, prior_pi, prior_sigma1, prior_sigma2, epochs=25):\n",
    "    @variational_approximator\n",
    "    class BayesianNetwork(nn.Module):\n",
    "        def __init__(self, input_dim, output_dim):\n",
    "            super().__init__()\n",
    "            self.bl1 = BayesLinear(input_dim, 1200, prior_pi, prior_sigma1, prior_sigma2)\n",
    "            self.bl2 = BayesLinear(1200, 1200, prior_pi, prior_sigma1, prior_sigma2)\n",
    "            self.bl3 = BayesLinear(1200, output_dim, prior_pi, prior_sigma1, prior_sigma2)\n",
    "\n",
    "        def forward(self, x):\n",
    "            x = x.view(-1, 28 * 28)\n",
    "\n",
    "            x = F.relu(self.bl1(x))\n",
    "            x = F.relu(self.bl2(x))\n",
    "            x = self.bl3(x)\n",
    "\n",
    "            return x\n",
    "\n",
    "    model = BayesianNetwork(28 * 28, 10).to(device)\n",
    "\n",
    "    optimizer = torch.optim.Adam(model.parameters(), lr=learning_rate)\n",
    "    criterion = nn.CrossEntropyLoss(reduction='sum')\n",
    "\n",
    "\n",
    "    min_test_loss = np.Inf\n",
    "    for epoch in range(epochs):\n",
    "\n",
    "        train_loss = 0.0\n",
    "        val_loss = 0.0\n",
    "\n",
    "        model.train()\n",
    "        for batch_idx, (data, labels) in enumerate(trainloader):\n",
    "            data, labels = data.to(device), labels.to(device)\n",
    "\n",
    "            optimizer.zero_grad()\n",
    "\n",
    "            pi_weight = minibatch_weight(batch_idx=batch_idx, num_batches=128)\n",
    "\n",
    "            loss = model.elbo(\n",
    "                inputs=data,\n",
    "                targets=labels,\n",
    "                criterion=criterion,\n",
    "                n_samples=5,\n",
    "                w_complexity=pi_weight\n",
    "            )\n",
    "\n",
    "            train_loss += loss.item() * data.size(0)\n",
    "\n",
    "            loss.backward()\n",
    "            optimizer.step()\n",
    "\n",
    "        correct = 0\n",
    "        total = 0\n",
    "\n",
    "        model.eval()\n",
    "        with torch.no_grad():\n",
    "            for batch_idx, (data, labels) in enumerate(testloader):\n",
    "                data, labels = data.to(device), labels.to(device)\n",
    "\n",
    "                outputs = model(data)\n",
    "\n",
    "                pi_weight = minibatch_weight(batch_idx=batch_idx, num_batches=128)\n",
    "\n",
    "                loss = model.elbo(\n",
    "                    inputs=data,\n",
    "                    targets=labels,\n",
    "                    criterion=criterion,\n",
    "                    n_samples=5,\n",
    "                    w_complexity=pi_weight\n",
    "                )\n",
    "\n",
    "                val_loss += loss.item() * data.size(0)\n",
    "\n",
    "                probabilities = F.softmax(outputs)\n",
    "                _, predicted = torch.max(probabilities.data, 1)\n",
    "\n",
    "                total += labels.size(0)\n",
    "                correct += torch.eq(predicted, labels).sum().item()\n",
    "\n",
    "        accuracy_val = correct / total\n",
    "        train_loss /= len(trainloader.dataset)\n",
    "        val_loss /= len(testloader.dataset)\n",
    "\n",
    "        metrics = {'train_loss': train_loss, 'val_loss': val_loss, 'accuracy_val': accuracy_val, \"test_error_val\": (1 - accuracy_val)  }\n",
    "        wandb.log(metrics)\n"
   ]
  },
  {
   "cell_type": "code",
   "execution_count": 13,
   "id": "0f4a2f38",
   "metadata": {
    "execution": {
     "iopub.execute_input": "2025-06-10T13:27:54.399928Z",
     "iopub.status.busy": "2025-06-10T13:27:54.399488Z",
     "iopub.status.idle": "2025-06-10T13:27:54.402636Z",
     "shell.execute_reply": "2025-06-10T13:27:54.402133Z"
    },
    "papermill": {
     "duration": 0.009513,
     "end_time": "2025-06-10T13:27:54.403678",
     "exception": false,
     "start_time": "2025-06-10T13:27:54.394165",
     "status": "completed"
    },
    "tags": []
   },
   "outputs": [],
   "source": [
    "def train_wrapper():\n",
    "\n",
    "    return train_loop(\n",
    "        learning_rate = wandb.config.learning_rate,\n",
    "        prior_pi = wandb.config.prior_pi,\n",
    "        prior_sigma1=wandb.config.prior_sigma1,\n",
    "        prior_sigma2=wandb.config.prior_sigma2\n",
    "    )"
   ]
  },
  {
   "cell_type": "markdown",
   "id": "b10b43bb",
   "metadata": {
    "papermill": {
     "duration": 0.004279,
     "end_time": "2025-06-10T13:27:54.412440",
     "exception": false,
     "start_time": "2025-06-10T13:27:54.408161",
     "status": "completed"
    },
    "tags": []
   },
   "source": [
    "### Tuning Hyperparamters"
   ]
  },
  {
   "cell_type": "code",
   "execution_count": 14,
   "id": "49cf48e4",
   "metadata": {
    "execution": {
     "iopub.execute_input": "2025-06-10T13:27:54.422623Z",
     "iopub.status.busy": "2025-06-10T13:27:54.421978Z",
     "iopub.status.idle": "2025-06-10T13:27:54.426346Z",
     "shell.execute_reply": "2025-06-10T13:27:54.425666Z"
    },
    "papermill": {
     "duration": 0.01056,
     "end_time": "2025-06-10T13:27:54.427488",
     "exception": false,
     "start_time": "2025-06-10T13:27:54.416928",
     "status": "completed"
    },
    "tags": []
   },
   "outputs": [],
   "source": [
    "sweep_configuration = {\n",
    "     \"method\": \"grid\",\n",
    "     \"metric\": {\"goal\": \"minimize\", \"name\": \"val_loss\"},\n",
    "     'name': \"sweep-BBB-Gaussian\",\n",
    "     \"parameters\": {\n",
    "         \"learning_rate\": {'values': [1e-3]},\n",
    "         \"prior_pi\": {'values': [0.25, 0.5, 0.75]},\n",
    "         \"prior_sigma1\": {'values': [1, math.exp(-1), math.exp(-2)]},\n",
    "         \"prior_sigma2\": {'values': [math.exp(-6), math.exp(-7), math.exp(-8)]},\n",
    "     },\n",
    "}\n",
    "\n",
    "#sweep_id = wandb.sweep(sweep=sweep_configuration, project=\"Project-ASI\")\n",
    "#wandb.agent(sweep_id, function=train_wrapper);"
   ]
  },
  {
   "cell_type": "code",
   "execution_count": 15,
   "id": "58dbb89d",
   "metadata": {
    "execution": {
     "iopub.execute_input": "2025-06-10T13:27:54.437584Z",
     "iopub.status.busy": "2025-06-10T13:27:54.437131Z",
     "iopub.status.idle": "2025-06-10T13:27:54.441333Z",
     "shell.execute_reply": "2025-06-10T13:27:54.440671Z"
    },
    "papermill": {
     "duration": 0.010267,
     "end_time": "2025-06-10T13:27:54.442337",
     "exception": false,
     "start_time": "2025-06-10T13:27:54.432070",
     "status": "completed"
    },
    "tags": []
   },
   "outputs": [],
   "source": [
    "sweep_configuration = {\n",
    "     \"method\": \"grid\",\n",
    "     \"metric\": {\"goal\": \"minimize\", \"name\": \"val_loss\"},\n",
    "     'name': \"sweep-BBB-Gaussian\",\n",
    "     \"parameters\": {\n",
    "         \"learning_rate\": {'values': [1e-4]},\n",
    "         \"prior_pi\": {'values': [0.25, 0.5, 0.75]},\n",
    "         \"prior_sigma1\": {'values': [1, math.exp(-1), math.exp(-2)]},\n",
    "         \"prior_sigma2\": {'values': [math.exp(-6), math.exp(-7), math.exp(-8)]},\n",
    "     },\n",
    "}\n",
    "\n",
    "#sweep_id = wandb.sweep(sweep=sweep_configuration, project=\"Project-ASI\")\n",
    "#wandb.agent(sweep_id, function=train_wrapper);"
   ]
  },
  {
   "cell_type": "markdown",
   "id": "11fa72ab",
   "metadata": {
    "papermill": {
     "duration": 0.004343,
     "end_time": "2025-06-10T13:27:54.451209",
     "exception": false,
     "start_time": "2025-06-10T13:27:54.446866",
     "status": "completed"
    },
    "tags": []
   },
   "source": [
    "### Best Hyperparamters"
   ]
  },
  {
   "cell_type": "code",
   "execution_count": 16,
   "id": "f88d1523",
   "metadata": {
    "execution": {
     "iopub.execute_input": "2025-06-10T13:27:54.461666Z",
     "iopub.status.busy": "2025-06-10T13:27:54.461245Z",
     "iopub.status.idle": "2025-06-10T13:27:54.464354Z",
     "shell.execute_reply": "2025-06-10T13:27:54.463877Z"
    },
    "papermill": {
     "duration": 0.009491,
     "end_time": "2025-06-10T13:27:54.465295",
     "exception": false,
     "start_time": "2025-06-10T13:27:54.455804",
     "status": "completed"
    },
    "tags": []
   },
   "outputs": [],
   "source": [
    "best_hyperparameters = {'learning_rate' : 1e-3, 'prior_pi' : 0.5, 'prior_sigma1' : 1.0, 'prior_sigma2' : math.exp(-7)}"
   ]
  },
  {
   "cell_type": "markdown",
   "id": "54669a70",
   "metadata": {
    "papermill": {
     "duration": 0.004382,
     "end_time": "2025-06-10T13:27:54.474271",
     "exception": false,
     "start_time": "2025-06-10T13:27:54.469889",
     "status": "completed"
    },
    "tags": []
   },
   "source": [
    "### Train-Test Hyperparamters"
   ]
  },
  {
   "cell_type": "code",
   "execution_count": 17,
   "id": "27dbcde3",
   "metadata": {
    "execution": {
     "iopub.execute_input": "2025-06-10T13:27:54.484364Z",
     "iopub.status.busy": "2025-06-10T13:27:54.483869Z",
     "iopub.status.idle": "2025-06-10T19:35:51.136691Z",
     "shell.execute_reply": "2025-06-10T19:35:51.135735Z"
    },
    "papermill": {
     "duration": 22076.65993,
     "end_time": "2025-06-10T19:35:51.138678",
     "exception": false,
     "start_time": "2025-06-10T13:27:54.478748",
     "status": "completed"
    },
    "tags": []
   },
   "outputs": [
    {
     "name": "stderr",
     "output_type": "stream",
     "text": [
      "\u001b[34m\u001b[1mwandb\u001b[0m: Tracking run with wandb version 0.19.9\n",
      "\u001b[34m\u001b[1mwandb\u001b[0m: Run data is saved locally in \u001b[35m\u001b[1m/kaggle/working/wandb/run-20250610_132754-9g0osuqa\u001b[0m\n",
      "\u001b[34m\u001b[1mwandb\u001b[0m: Run \u001b[1m`wandb offline`\u001b[0m to turn off syncing.\n",
      "\u001b[34m\u001b[1mwandb\u001b[0m: Syncing run \u001b[33methereal-wind-192\u001b[0m\n",
      "\u001b[34m\u001b[1mwandb\u001b[0m: ⭐️ View project at \u001b[34m\u001b[4mhttps://wandb.ai/miriam-lamari2-eurecom/Project-ASI\u001b[0m\n",
      "\u001b[34m\u001b[1mwandb\u001b[0m: 🚀 View run at \u001b[34m\u001b[4mhttps://wandb.ai/miriam-lamari2-eurecom/Project-ASI/runs/9g0osuqa\u001b[0m\n",
      "/tmp/ipykernel_19/3648253945.py:74: UserWarning: Implicit dimension choice for softmax has been deprecated. Change the call to include dim=X as an argument.\n",
      "  probabilities = F.softmax(outputs)\n"
     ]
    }
   ],
   "source": [
    "wandb.init(project=\"Project-ASI\")\n",
    "wandb.run.log_code = False\n",
    "\n",
    "train_loop(\n",
    "    learning_rate = best_hyperparameters['learning_rate'],\n",
    "    prior_pi = best_hyperparameters['prior_pi'],\n",
    "    prior_sigma1 = best_hyperparameters['prior_sigma1'],\n",
    "    prior_sigma2 = best_hyperparameters['prior_sigma2'],\n",
    "    epochs = 200\n",
    ")"
   ]
  }
 ],
 "metadata": {
  "kaggle": {
   "accelerator": "gpu",
   "dataSources": [],
   "dockerImageVersionId": 31040,
   "isGpuEnabled": true,
   "isInternetEnabled": true,
   "language": "python",
   "sourceType": "notebook"
  },
  "kernelspec": {
   "display_name": "Python 3",
   "language": "python",
   "name": "python3"
  },
  "language_info": {
   "codemirror_mode": {
    "name": "ipython",
    "version": 3
   },
   "file_extension": ".py",
   "mimetype": "text/x-python",
   "name": "python",
   "nbconvert_exporter": "python",
   "pygments_lexer": "ipython3",
   "version": "3.11.11"
  },
  "papermill": {
   "default_parameters": {},
   "duration": 22098.589085,
   "end_time": "2025-06-10T19:35:54.616460",
   "environment_variables": {},
   "exception": null,
   "input_path": "__notebook__.ipynb",
   "output_path": "__notebook__.ipynb",
   "parameters": {},
   "start_time": "2025-06-10T13:27:36.027375",
   "version": "2.6.0"
  }
 },
 "nbformat": 4,
 "nbformat_minor": 5
}
