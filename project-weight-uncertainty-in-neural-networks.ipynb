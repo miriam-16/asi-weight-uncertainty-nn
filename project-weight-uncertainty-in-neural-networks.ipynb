{
 "cells": [
  {
   "cell_type": "markdown",
   "id": "30a7ddc2",
   "metadata": {
    "papermill": {
     "duration": 0.003768,
     "end_time": "2025-05-17T15:04:37.182298",
     "exception": false,
     "start_time": "2025-05-17T15:04:37.178530",
     "status": "completed"
    },
    "tags": []
   },
   "source": [
    "# [ASI Project] Weight Uncertainty in Neural Networks  \n",
    "**Authors**: Miriam Lamari, Francesco Giannuzzo  \n"
   ]
  },
  {
   "cell_type": "code",
   "execution_count": 1,
   "id": "05d60976",
   "metadata": {
    "execution": {
     "iopub.execute_input": "2025-05-17T15:04:37.189489Z",
     "iopub.status.busy": "2025-05-17T15:04:37.189227Z",
     "iopub.status.idle": "2025-05-17T15:04:48.939531Z",
     "shell.execute_reply": "2025-05-17T15:04:48.938743Z"
    },
    "papermill": {
     "duration": 11.755509,
     "end_time": "2025-05-17T15:04:48.940974",
     "exception": false,
     "start_time": "2025-05-17T15:04:37.185465",
     "status": "completed"
    },
    "tags": []
   },
   "outputs": [],
   "source": [
    "import csv\n",
    "\n",
    "import numpy as np\n",
    "import torch.nn as nn\n",
    "import torch.nn.functional as F\n",
    "import torch.utils.data\n",
    "from torchvision import datasets\n",
    "from torchvision import transforms\n",
    "from kaggle_secrets import UserSecretsClient\n",
    "import wandb"
   ]
  },
  {
   "cell_type": "code",
   "execution_count": 2,
   "id": "3b3d12d7",
   "metadata": {
    "execution": {
     "iopub.execute_input": "2025-05-17T15:04:48.948154Z",
     "iopub.status.busy": "2025-05-17T15:04:48.947845Z",
     "iopub.status.idle": "2025-05-17T15:04:49.610833Z",
     "shell.execute_reply": "2025-05-17T15:04:49.610065Z"
    },
    "papermill": {
     "duration": 0.667678,
     "end_time": "2025-05-17T15:04:49.612004",
     "exception": false,
     "start_time": "2025-05-17T15:04:48.944326",
     "status": "completed"
    },
    "tags": []
   },
   "outputs": [
    {
     "name": "stderr",
     "output_type": "stream",
     "text": [
      "\u001b[34m\u001b[1mwandb\u001b[0m: Using wandb-core as the SDK backend.  Please refer to https://wandb.me/wandb-core for more information.\n",
      "\u001b[34m\u001b[1mwandb\u001b[0m: \u001b[33mWARNING\u001b[0m If you're specifying your api key in code, ensure this code is not shared publicly.\n",
      "\u001b[34m\u001b[1mwandb\u001b[0m: \u001b[33mWARNING\u001b[0m Consider setting the WANDB_API_KEY environment variable, or running `wandb login` from the command line.\n",
      "\u001b[34m\u001b[1mwandb\u001b[0m: No netrc file found, creating one.\n",
      "\u001b[34m\u001b[1mwandb\u001b[0m: Appending key for api.wandb.ai to your netrc file: /root/.netrc\n",
      "\u001b[34m\u001b[1mwandb\u001b[0m: Currently logged in as: \u001b[33mfrancescogiannuzzo2002-fg\u001b[0m (\u001b[33mmiriam-lamari2-eurecom\u001b[0m) to \u001b[32mhttps://api.wandb.ai\u001b[0m. Use \u001b[1m`wandb login --relogin`\u001b[0m to force relogin\n"
     ]
    },
    {
     "data": {
      "text/plain": [
       "True"
      ]
     },
     "execution_count": 2,
     "metadata": {},
     "output_type": "execute_result"
    }
   ],
   "source": [
    "user_secrets = UserSecretsClient()\n",
    "key = user_secrets.get_secret('wandb-api-key')\n",
    "\n",
    "wandb.login(key=key)"
   ]
  },
  {
   "cell_type": "markdown",
   "id": "a11004d2",
   "metadata": {
    "papermill": {
     "duration": 0.003128,
     "end_time": "2025-05-17T15:04:49.618498",
     "exception": false,
     "start_time": "2025-05-17T15:04:49.615370",
     "status": "completed"
    },
    "tags": []
   },
   "source": [
    "## Minibatches\n",
    "**minibatch_weight**(batch_idx: int, num_batches: int)"
   ]
  },
  {
   "cell_type": "code",
   "execution_count": 3,
   "id": "a72d7dc8",
   "metadata": {
    "execution": {
     "iopub.execute_input": "2025-05-17T15:04:49.625492Z",
     "iopub.status.busy": "2025-05-17T15:04:49.625251Z",
     "iopub.status.idle": "2025-05-17T15:04:49.628919Z",
     "shell.execute_reply": "2025-05-17T15:04:49.628329Z"
    },
    "papermill": {
     "duration": 0.008414,
     "end_time": "2025-05-17T15:04:49.630015",
     "exception": false,
     "start_time": "2025-05-17T15:04:49.621601",
     "status": "completed"
    },
    "tags": []
   },
   "outputs": [],
   "source": [
    "def minibatch_weight(batch_idx: int, num_batches: int) -> float:\n",
    "    return 2 ** (num_batches - batch_idx) / (2 ** num_batches - batch_idx)"
   ]
  },
  {
   "cell_type": "markdown",
   "id": "7490b02b",
   "metadata": {
    "papermill": {
     "duration": 0.002927,
     "end_time": "2025-05-17T15:04:49.636097",
     "exception": false,
     "start_time": "2025-05-17T15:04:49.633170",
     "status": "completed"
    },
    "tags": []
   },
   "source": [
    "## Variational Approximation"
   ]
  },
  {
   "cell_type": "code",
   "execution_count": 4,
   "id": "e0d3a310",
   "metadata": {
    "execution": {
     "iopub.execute_input": "2025-05-17T15:04:49.642883Z",
     "iopub.status.busy": "2025-05-17T15:04:49.642630Z",
     "iopub.status.idle": "2025-05-17T15:04:49.648557Z",
     "shell.execute_reply": "2025-05-17T15:04:49.648010Z"
    },
    "papermill": {
     "duration": 0.010453,
     "end_time": "2025-05-17T15:04:49.649516",
     "exception": false,
     "start_time": "2025-05-17T15:04:49.639063",
     "status": "completed"
    },
    "tags": []
   },
   "outputs": [],
   "source": [
    "from typing import Any, Optional\n",
    "\n",
    "import torch.nn as nn\n",
    "from torch import Tensor\n",
    "\n",
    "\n",
    "class BayesianModule(nn.Module):\n",
    "\n",
    "    \"\"\"Base class for BNN to enable certain behaviour.\"\"\"\n",
    "\n",
    "    def __init__(self):\n",
    "        super().__init__()\n",
    "\n",
    "    def kld(self, *args):\n",
    "        raise NotImplementedError('BayesianModule::kld()')\n",
    "\n",
    "\n",
    "def variational_approximator(model: nn.Module) -> nn.Module:\n",
    "\n",
    "    def kl_divergence(self) -> Tensor:\n",
    "\n",
    "        kl = 0\n",
    "        for module in self.modules():\n",
    "            if isinstance(module, BayesianModule):\n",
    "                kl += module.kl_divergence\n",
    "\n",
    "        return kl\n",
    "\n",
    "    # add `kl_divergence` to the model\n",
    "    setattr(model, 'kl_divergence', kl_divergence)\n",
    "\n",
    "    def elbo(self,\n",
    "             inputs: Tensor,\n",
    "             targets: Tensor,\n",
    "             criterion: Any,\n",
    "             n_samples: int,\n",
    "             w_complexity: Optional[float] = 1.0) -> Tensor:\n",
    "\n",
    "        loss = 0\n",
    "        for sample in range(n_samples):\n",
    "            outputs = self(inputs)\n",
    "            loss += criterion(outputs, targets)\n",
    "            loss += self.kl_divergence() * w_complexity\n",
    "\n",
    "        return loss / n_samples\n",
    "\n",
    "    # add `elbo` to the model\n",
    "    setattr(model, 'elbo', elbo)\n",
    "\n",
    "    return model\n"
   ]
  },
  {
   "cell_type": "markdown",
   "id": "d96caa70",
   "metadata": {
    "papermill": {
     "duration": 0.00294,
     "end_time": "2025-05-17T15:04:49.655573",
     "exception": false,
     "start_time": "2025-05-17T15:04:49.652633",
     "status": "completed"
    },
    "tags": []
   },
   "source": [
    "## Scale Mixture Prior"
   ]
  },
  {
   "cell_type": "code",
   "execution_count": 5,
   "id": "28436059",
   "metadata": {
    "execution": {
     "iopub.execute_input": "2025-05-17T15:04:49.662977Z",
     "iopub.status.busy": "2025-05-17T15:04:49.662447Z",
     "iopub.status.idle": "2025-05-17T15:04:49.668334Z",
     "shell.execute_reply": "2025-05-17T15:04:49.667787Z"
    },
    "papermill": {
     "duration": 0.010702,
     "end_time": "2025-05-17T15:04:49.669365",
     "exception": false,
     "start_time": "2025-05-17T15:04:49.658663",
     "status": "completed"
    },
    "tags": []
   },
   "outputs": [],
   "source": [
    "import functools as ft\n",
    "\n",
    "import torch\n",
    "import torch.nn as nn\n",
    "from torch import Tensor\n",
    "\n",
    "\n",
    "class ScaleMixture(nn.Module):\n",
    "\n",
    "    \"\"\"Scale Mixture Prior.\n",
    "\n",
    "    Section 3.3 of the 'Weight Uncertainty in Neural Networks' paper\n",
    "    proposes the use of a Scale Mixture prior for use in variational\n",
    "    inference - this being a fixed-form prior.\n",
    "\n",
    "    The authors note that, should the parameters be allowed to adjust\n",
    "    during training, the prior changes rapidly and attempts to capture\n",
    "    the empirical distribution of the weights. As a result the prior\n",
    "    learns to fit poor initial parameters and struggles to improve.\n",
    "    \"\"\"\n",
    "\n",
    "    def __init__(self, pi: float, sigma1: float, sigma2: float) -> None:\n",
    "\n",
    "        \"\"\"Scale Mixture Prior.\n",
    "\n",
    "        The authors of 'Weight Uncertainty in Neural Networks' note:\n",
    "\n",
    "            sigma1 > sigma2:\n",
    "                provides a heavier tail in the prior density than is\n",
    "                seen in a plain Gaussian prior.\n",
    "            sigma2 << 1.0:\n",
    "                causes many of the weights to a priori tightly\n",
    "                concentrate around zero.\n",
    "\n",
    "        Parameters\n",
    "        ----------\n",
    "        pi : float\n",
    "            Parameter used to scale the two Gaussian distributions.\n",
    "        sigma1 : float\n",
    "            Standard deviation of the first normal distribution.\n",
    "        sigma2 : float\n",
    "            Standard deviation of the second normal distribution.\n",
    "        \"\"\"\n",
    "\n",
    "        super().__init__()\n",
    "\n",
    "        self.pi = pi\n",
    "        self.sigma1 = sigma1\n",
    "        self.sigma2 = sigma2\n",
    "\n",
    "        self.normal1 = torch.distributions.Normal(0, sigma1)\n",
    "        self.normal2 = torch.distributions.Normal(0, sigma2)\n",
    "\n",
    "    def log_prior(self, w: Tensor) -> Tensor:\n",
    "\n",
    "        \"\"\"Log Likelihood of the weight according to the prior.\n",
    "\n",
    "        Calculates the log likelihood of the supplied weight given the\n",
    "        prior distribution - the scale mixture of two Gaussians.\n",
    "\n",
    "        Parameters\n",
    "        ----------\n",
    "        w : Tensor\n",
    "            Weight to be used to calculate the log likelihood.\n",
    "\n",
    "        Returns\n",
    "        -------\n",
    "        Tensor\n",
    "            Log likelihood of the weights from the prior distribution.\n",
    "        \"\"\"\n",
    "\n",
    "        likelihood_n1 = torch.exp(self.normal1.log_prob(w))\n",
    "        likelihood_n2 = torch.exp(self.normal2.log_prob(w))\n",
    "\n",
    "        p_scalemixture = self.pi * likelihood_n1 + (1 - self.pi) * likelihood_n2\n",
    "        log_prob = torch.log(p_scalemixture).sum()\n",
    "\n",
    "        return log_prob"
   ]
  },
  {
   "cell_type": "markdown",
   "id": "fc9fc2e4",
   "metadata": {
    "papermill": {
     "duration": 0.003044,
     "end_time": "2025-05-17T15:04:49.675589",
     "exception": false,
     "start_time": "2025-05-17T15:04:49.672545",
     "status": "completed"
    },
    "tags": []
   },
   "source": [
    "## Gaussian Variational Inference"
   ]
  },
  {
   "cell_type": "code",
   "execution_count": 6,
   "id": "d4060d55",
   "metadata": {
    "execution": {
     "iopub.execute_input": "2025-05-17T15:04:49.682719Z",
     "iopub.status.busy": "2025-05-17T15:04:49.682166Z",
     "iopub.status.idle": "2025-05-17T15:04:49.688401Z",
     "shell.execute_reply": "2025-05-17T15:04:49.687714Z"
    },
    "papermill": {
     "duration": 0.010999,
     "end_time": "2025-05-17T15:04:49.689554",
     "exception": false,
     "start_time": "2025-05-17T15:04:49.678555",
     "status": "completed"
    },
    "tags": []
   },
   "outputs": [],
   "source": [
    "import numpy as np\n",
    "import torch\n",
    "import torch.nn as nn\n",
    "from torch import Tensor\n",
    "\n",
    "\n",
    "class GaussianVariational(nn.Module):\n",
    "    def __init__(self, mu: Tensor, rho: Tensor) -> None:\n",
    "\n",
    "        super().__init__()\n",
    "\n",
    "        self.mu = nn.Parameter(mu)\n",
    "        self.rho = nn.Parameter(rho)\n",
    "\n",
    "        self.w = None\n",
    "        self.sigma = None\n",
    "\n",
    "        self.normal = torch.distributions.Normal(0, 1)\n",
    "\n",
    "    def sample(self) -> Tensor:\n",
    "        device = self.mu.device\n",
    "        epsilon = self.normal.sample(self.mu.size()).to(device)\n",
    "        self.sigma = torch.log(1 + torch.exp(self.rho)).to(device)\n",
    "        self.w = self.mu + self.sigma * epsilon\n",
    "\n",
    "        return self.w\n",
    "\n",
    "    def log_posterior(self) -> Tensor:\n",
    "\n",
    "        if self.w is None:\n",
    "            raise ValueError('self.w must have a value.')\n",
    "\n",
    "        log_const = np.log(np.sqrt(2 * np.pi))\n",
    "        log_exp = ((self.w - self.mu) ** 2) / (2 * self.sigma ** 2)\n",
    "        log_posterior = -log_const - torch.log(self.sigma) - log_exp\n",
    "\n",
    "        return log_posterior.sum()"
   ]
  },
  {
   "cell_type": "markdown",
   "id": "accc01c2",
   "metadata": {
    "papermill": {
     "duration": 0.002941,
     "end_time": "2025-05-17T15:04:49.695574",
     "exception": false,
     "start_time": "2025-05-17T15:04:49.692633",
     "status": "completed"
    },
    "tags": []
   },
   "source": [
    "## Bayesian Linear Layer ##"
   ]
  },
  {
   "cell_type": "code",
   "execution_count": 7,
   "id": "1d6bcb15",
   "metadata": {
    "execution": {
     "iopub.execute_input": "2025-05-17T15:04:49.702460Z",
     "iopub.status.busy": "2025-05-17T15:04:49.702270Z",
     "iopub.status.idle": "2025-05-17T15:04:49.709329Z",
     "shell.execute_reply": "2025-05-17T15:04:49.708794Z"
    },
    "papermill": {
     "duration": 0.011739,
     "end_time": "2025-05-17T15:04:49.710293",
     "exception": false,
     "start_time": "2025-05-17T15:04:49.698554",
     "status": "completed"
    },
    "tags": []
   },
   "outputs": [],
   "source": [
    "from typing import Optional\n",
    "\n",
    "import torch\n",
    "import torch.nn.functional as F\n",
    "from torch import Tensor\n",
    "\n",
    "#from .base_bayesian import BayesianModule\n",
    "#from .samplers.gaussian_variational import GaussianVariational\n",
    "#from .samplers.scale_mixture import ScaleMixture\n",
    "\n",
    "\n",
    "class BayesLinear(BayesianModule):\n",
    "\n",
    "    \"\"\"Bayesian Linear Layer.\n",
    "\n",
    "    Implementation of a Bayesian Linear Layer as described in the\n",
    "    'Weight Uncertainty in Neural Networks' paper.\n",
    "    \"\"\"\n",
    "\n",
    "    def __init__(self,\n",
    "                 in_features: int,\n",
    "                 out_features: int,\n",
    "                 prior_pi: Optional[float] = 0.5,\n",
    "                 prior_sigma1: Optional[float] = 1.0,\n",
    "                 prior_sigma2: Optional[float] = 0.0025) -> None:\n",
    "\n",
    "        super().__init__()\n",
    "\n",
    "        w_mu = torch.empty(out_features, in_features).uniform_(-0.2, 0.2)\n",
    "        w_rho = torch.empty(out_features, in_features).uniform_(-5.0, -4.0)\n",
    "\n",
    "        bias_mu = torch.empty(out_features).uniform_(-0.2, 0.2)\n",
    "        bias_rho = torch.empty(out_features).uniform_(-5.0, -4.0)\n",
    "\n",
    "        self.w_posterior = GaussianVariational(w_mu, w_rho)\n",
    "        self.bias_posterior = GaussianVariational(bias_mu, bias_rho)\n",
    "\n",
    "        self.w_prior = ScaleMixture(prior_pi, prior_sigma1, prior_sigma2)\n",
    "        self.bias_prior = ScaleMixture(prior_pi, prior_sigma1, prior_sigma2)\n",
    "\n",
    "        self.kl_divergence = 0.0\n",
    "\n",
    "    def forward(self, x: Tensor) -> Tensor:\n",
    "\n",
    "        w = self.w_posterior.sample()\n",
    "        b = self.bias_posterior.sample()\n",
    "\n",
    "        w_log_prior = self.w_prior.log_prior(w)\n",
    "        b_log_prior = self.bias_prior.log_prior(b)\n",
    "\n",
    "        w_log_posterior = self.w_posterior.log_posterior()\n",
    "        b_log_posterior = self.bias_posterior.log_posterior()\n",
    "\n",
    "        total_log_prior = w_log_prior + b_log_prior\n",
    "        total_log_posterior = w_log_posterior + b_log_posterior\n",
    "        self.kl_divergence = self.kld(total_log_prior, total_log_posterior)\n",
    "\n",
    "        return F.linear(x, w, b)\n",
    "\n",
    "    def kld(self, log_prior: Tensor, log_posterior: Tensor) -> Tensor:\n",
    "        return log_posterior - log_prior"
   ]
  },
  {
   "cell_type": "code",
   "execution_count": 8,
   "id": "9f57220a",
   "metadata": {
    "execution": {
     "iopub.execute_input": "2025-05-17T15:04:49.717095Z",
     "iopub.status.busy": "2025-05-17T15:04:49.716908Z",
     "iopub.status.idle": "2025-05-17T15:04:49.788069Z",
     "shell.execute_reply": "2025-05-17T15:04:49.787295Z"
    },
    "papermill": {
     "duration": 0.075844,
     "end_time": "2025-05-17T15:04:49.789189",
     "exception": false,
     "start_time": "2025-05-17T15:04:49.713345",
     "status": "completed"
    },
    "tags": []
   },
   "outputs": [],
   "source": [
    "device = torch.device('cuda' if torch.cuda.is_available() else 'cpu')\n",
    "kwargs = {'num_workers': 1, 'pin_memory': True} if device == 'cuda' else {}\n",
    "\n",
    "# define transforms\n",
    "transform = transforms.Compose([\n",
    "    transforms.ToTensor(),\n",
    "    transforms.Normalize((0.1307,), (0.3081,))\n",
    "])\n"
   ]
  },
  {
   "cell_type": "code",
   "execution_count": 9,
   "id": "38804efd",
   "metadata": {
    "execution": {
     "iopub.execute_input": "2025-05-17T15:04:49.796369Z",
     "iopub.status.busy": "2025-05-17T15:04:49.796179Z",
     "iopub.status.idle": "2025-05-17T15:04:51.357708Z",
     "shell.execute_reply": "2025-05-17T15:04:51.356953Z"
    },
    "papermill": {
     "duration": 1.566614,
     "end_time": "2025-05-17T15:04:51.359089",
     "exception": false,
     "start_time": "2025-05-17T15:04:49.792475",
     "status": "completed"
    },
    "tags": []
   },
   "outputs": [
    {
     "name": "stderr",
     "output_type": "stream",
     "text": [
      "100%|██████████| 9.91M/9.91M [00:00<00:00, 59.7MB/s]\n",
      "100%|██████████| 28.9k/28.9k [00:00<00:00, 1.71MB/s]\n",
      "100%|██████████| 1.65M/1.65M [00:00<00:00, 14.9MB/s]\n",
      "100%|██████████| 4.54k/4.54k [00:00<00:00, 6.20MB/s]\n"
     ]
    }
   ],
   "source": [
    "# load / process data\n",
    "trainset = datasets.MNIST('./data', train=True, download=True,transform=transform)\n",
    "trainloader = torch.utils.data.DataLoader(trainset, batch_size=128, **kwargs)\n",
    "\n",
    "testset = datasets.MNIST('./data', train=False, download=True, transform=transform)\n",
    "testloader = torch.utils.data.DataLoader(testset, batch_size=128, **kwargs)"
   ]
  },
  {
   "cell_type": "code",
   "execution_count": 10,
   "id": "3cb2e976",
   "metadata": {
    "execution": {
     "iopub.execute_input": "2025-05-17T15:04:51.367851Z",
     "iopub.status.busy": "2025-05-17T15:04:51.367345Z",
     "iopub.status.idle": "2025-05-17T15:04:51.376237Z",
     "shell.execute_reply": "2025-05-17T15:04:51.375710Z"
    },
    "papermill": {
     "duration": 0.014197,
     "end_time": "2025-05-17T15:04:51.377271",
     "exception": false,
     "start_time": "2025-05-17T15:04:51.363074",
     "status": "completed"
    },
    "tags": []
   },
   "outputs": [],
   "source": [
    "def train_loop(learning_rate, prior_pi, prior_sigma1, prior_sigma2):\n",
    "    \n",
    "    @variational_approximator\n",
    "    class BayesianNetwork(nn.Module):\n",
    "        def __init__(self, input_dim, output_dim):\n",
    "            super().__init__()\n",
    "            self.bl1 = BayesLinear(input_dim, 1200, prior_pi, prior_sigma1, prior_sigma2)\n",
    "            self.bl2 = BayesLinear(1200, 1200, prior_pi, prior_sigma1, prior_sigma2)\n",
    "            self.bl3 = BayesLinear(1200, output_dim, prior_pi, prior_sigma1, prior_sigma2)\n",
    "    \n",
    "        def forward(self, x):\n",
    "            x = x.view(-1, 28 * 28)\n",
    "    \n",
    "            x = F.relu(self.bl1(x))\n",
    "            x = F.relu(self.bl2(x))\n",
    "            x = self.bl3(x)\n",
    "    \n",
    "            return x\n",
    "            \n",
    "    model = BayesianNetwork(28 * 28, 10).to(device)\n",
    "    \n",
    "    run = wandb.init(project=\"Project-ASI\")\n",
    "\n",
    "    optimizer = torch.optim.Adam(model.parameters(), lr=learning_rate)\n",
    "    criterion = nn.CrossEntropyLoss(reduction='sum')\n",
    "    \n",
    "\n",
    "    min_test_loss = np.Inf\n",
    "    for epoch in range(1):\n",
    "    \n",
    "        train_loss = 0.0\n",
    "        val_loss = 0.0\n",
    "    \n",
    "        model.train()\n",
    "        for batch_idx, (data, labels) in enumerate(trainloader):\n",
    "            data, labels = data.to(device), labels.to(device)\n",
    "    \n",
    "            optimizer.zero_grad()\n",
    "    \n",
    "            pi_weight = minibatch_weight(batch_idx=batch_idx, num_batches=128)\n",
    "    \n",
    "            loss = model.elbo(\n",
    "                inputs=data,\n",
    "                targets=labels,\n",
    "                criterion=criterion,\n",
    "                n_samples=3,\n",
    "                w_complexity=pi_weight\n",
    "            )\n",
    "    \n",
    "            train_loss += loss.item() * data.size(0)\n",
    "    \n",
    "            loss.backward()\n",
    "            optimizer.step()\n",
    "    \n",
    "        model.eval()\n",
    "        with torch.no_grad():\n",
    "            for batch_idx, (data, labels) in enumerate(testloader):\n",
    "                data, labels = data.to(device), labels.to(device)\n",
    "    \n",
    "                outputs = model(data)\n",
    "    \n",
    "                pi_weight = minibatch_weight(batch_idx=batch_idx, num_batches=128)\n",
    "    \n",
    "                loss = model.elbo(\n",
    "                    inputs=data,\n",
    "                    targets=labels,\n",
    "                    criterion=criterion,\n",
    "                    n_samples=3,\n",
    "                    w_complexity=pi_weight\n",
    "                )\n",
    "    \n",
    "                val_loss += loss.item() * data.size(0)\n",
    "    \n",
    "        train_loss /= len(trainloader.dataset)\n",
    "        val_loss /= len(testloader.dataset)\n",
    "\n",
    "        metrics = {'train_loss': train_loss, 'val_loss': val_loss }\n",
    "        wandb.log(metrics)\n"
   ]
  },
  {
   "cell_type": "code",
   "execution_count": 11,
   "id": "460ea0b2",
   "metadata": {
    "execution": {
     "iopub.execute_input": "2025-05-17T15:04:51.385989Z",
     "iopub.status.busy": "2025-05-17T15:04:51.385312Z",
     "iopub.status.idle": "2025-05-17T15:04:51.389041Z",
     "shell.execute_reply": "2025-05-17T15:04:51.388478Z"
    },
    "papermill": {
     "duration": 0.009025,
     "end_time": "2025-05-17T15:04:51.389990",
     "exception": false,
     "start_time": "2025-05-17T15:04:51.380965",
     "status": "completed"
    },
    "tags": []
   },
   "outputs": [],
   "source": [
    "def train_wrapper():\n",
    "    run = wandb.init(project=\"Project-ASI\")\n",
    "\n",
    "    return train_loop(\n",
    "        learning_rate = wandb.config.learning_rate,\n",
    "        prior_pi = wandb.config.prior_pi,\n",
    "        prior_sigma1=wandb.config.prior_sigma1,\n",
    "        prior_sigma2=wandb.config.prior_sigma2\n",
    "    )"
   ]
  },
  {
   "cell_type": "markdown",
   "id": "6d045228",
   "metadata": {
    "papermill": {
     "duration": 0.003352,
     "end_time": "2025-05-17T15:04:51.397395",
     "exception": false,
     "start_time": "2025-05-17T15:04:51.394043",
     "status": "completed"
    },
    "tags": []
   },
   "source": [
    "## Tuning Hyperparamters"
   ]
  },
  {
   "cell_type": "code",
   "execution_count": 12,
   "id": "adf2ea83",
   "metadata": {
    "execution": {
     "iopub.execute_input": "2025-05-17T15:04:51.405343Z",
     "iopub.status.busy": "2025-05-17T15:04:51.405159Z",
     "iopub.status.idle": "2025-05-17T15:04:51.408240Z",
     "shell.execute_reply": "2025-05-17T15:04:51.407665Z"
    },
    "papermill": {
     "duration": 0.008352,
     "end_time": "2025-05-17T15:04:51.409283",
     "exception": false,
     "start_time": "2025-05-17T15:04:51.400931",
     "status": "completed"
    },
    "tags": []
   },
   "outputs": [],
   "source": [
    "import math"
   ]
  },
  {
   "cell_type": "code",
   "execution_count": 13,
   "id": "921fc3a2",
   "metadata": {
    "execution": {
     "iopub.execute_input": "2025-05-17T15:04:51.417345Z",
     "iopub.status.busy": "2025-05-17T15:04:51.417142Z",
     "iopub.status.idle": "2025-05-17T15:06:12.717604Z",
     "shell.execute_reply": "2025-05-17T15:06:12.716811Z"
    },
    "papermill": {
     "duration": 81.306086,
     "end_time": "2025-05-17T15:06:12.718967",
     "exception": false,
     "start_time": "2025-05-17T15:04:51.412881",
     "status": "completed"
    },
    "tags": []
   },
   "outputs": [
    {
     "name": "stdout",
     "output_type": "stream",
     "text": [
      "Create sweep with ID: v7c70u6y\n",
      "Sweep URL: https://wandb.ai/miriam-lamari2-eurecom/Project-ASI/sweeps/v7c70u6y\n"
     ]
    },
    {
     "name": "stderr",
     "output_type": "stream",
     "text": [
      "\u001b[34m\u001b[1mwandb\u001b[0m: Agent Starting Run: 8cnmzu2i with config:\n",
      "\u001b[34m\u001b[1mwandb\u001b[0m: \tlearning_rate: 0.001\n",
      "\u001b[34m\u001b[1mwandb\u001b[0m: \tprior_pi: 0.5\n",
      "\u001b[34m\u001b[1mwandb\u001b[0m: \tprior_sigma1: 1\n",
      "\u001b[34m\u001b[1mwandb\u001b[0m: \tprior_sigma2: 0.0024787521766663585\n",
      "\u001b[34m\u001b[1mwandb\u001b[0m: \u001b[33mWARNING\u001b[0m Ignoring project 'Project-ASI' when running a sweep.\n",
      "\u001b[34m\u001b[1mwandb\u001b[0m: Tracking run with wandb version 0.19.9\n",
      "\u001b[34m\u001b[1mwandb\u001b[0m: Run data is saved locally in \u001b[35m\u001b[1m/kaggle/working/wandb/run-20250517_150452-8cnmzu2i\u001b[0m\n",
      "\u001b[34m\u001b[1mwandb\u001b[0m: Run \u001b[1m`wandb offline`\u001b[0m to turn off syncing.\n",
      "\u001b[34m\u001b[1mwandb\u001b[0m: Syncing run \u001b[33mkind-sweep-1\u001b[0m\n",
      "\u001b[34m\u001b[1mwandb\u001b[0m: ⭐️ View project at \u001b[34m\u001b[4mhttps://wandb.ai/miriam-lamari2-eurecom/Project-ASI\u001b[0m\n",
      "\u001b[34m\u001b[1mwandb\u001b[0m: 🧹 View sweep at \u001b[34m\u001b[4mhttps://wandb.ai/miriam-lamari2-eurecom/Project-ASI/sweeps/v7c70u6y\u001b[0m\n",
      "\u001b[34m\u001b[1mwandb\u001b[0m: 🚀 View run at \u001b[34m\u001b[4mhttps://wandb.ai/miriam-lamari2-eurecom/Project-ASI/runs/8cnmzu2i\u001b[0m\n",
      "\u001b[34m\u001b[1mwandb\u001b[0m: \u001b[33mWARNING\u001b[0m Ignoring project 'Project-ASI' when running a sweep.\n",
      "\u001b[34m\u001b[1mwandb\u001b[0m:                                                                                \n",
      "\u001b[34m\u001b[1mwandb\u001b[0m: 🚀 View run \u001b[33mkind-sweep-1\u001b[0m at: \u001b[34m\u001b[4mhttps://wandb.ai/miriam-lamari2-eurecom/Project-ASI/runs/8cnmzu2i\u001b[0m\n",
      "\u001b[34m\u001b[1mwandb\u001b[0m: ⭐️ View project at: \u001b[34m\u001b[4mhttps://wandb.ai/miriam-lamari2-eurecom/Project-ASI\u001b[0m\n",
      "\u001b[34m\u001b[1mwandb\u001b[0m: Synced 5 W&B file(s), 0 media file(s), 0 artifact file(s) and 0 other file(s)\n",
      "\u001b[34m\u001b[1mwandb\u001b[0m: Find logs at: \u001b[35m\u001b[1m./wandb/run-20250517_150452-8cnmzu2i/logs\u001b[0m\n",
      "\u001b[34m\u001b[1mwandb\u001b[0m: Tracking run with wandb version 0.19.9\n",
      "\u001b[34m\u001b[1mwandb\u001b[0m: Run data is saved locally in \u001b[35m\u001b[1m/kaggle/working/wandb/run-20250517_150454-8cnmzu2i\u001b[0m\n",
      "\u001b[34m\u001b[1mwandb\u001b[0m: Run \u001b[1m`wandb offline`\u001b[0m to turn off syncing.\n",
      "\u001b[34m\u001b[1mwandb\u001b[0m: Syncing run \u001b[33mkind-sweep-1\u001b[0m\n",
      "\u001b[34m\u001b[1mwandb\u001b[0m: ⭐️ View project at \u001b[34m\u001b[4mhttps://wandb.ai/miriam-lamari2-eurecom/Project-ASI\u001b[0m\n",
      "\u001b[34m\u001b[1mwandb\u001b[0m: 🧹 View sweep at \u001b[34m\u001b[4mhttps://wandb.ai/miriam-lamari2-eurecom/Project-ASI/sweeps/v7c70u6y\u001b[0m\n",
      "\u001b[34m\u001b[1mwandb\u001b[0m: 🚀 View run at \u001b[34m\u001b[4mhttps://wandb.ai/miriam-lamari2-eurecom/Project-ASI/runs/8cnmzu2i\u001b[0m\n",
      "\u001b[34m\u001b[1mwandb\u001b[0m:                                                                                \n",
      "\u001b[34m\u001b[1mwandb\u001b[0m: \n",
      "\u001b[34m\u001b[1mwandb\u001b[0m: Run history:\n",
      "\u001b[34m\u001b[1mwandb\u001b[0m: train_loss ▁\n",
      "\u001b[34m\u001b[1mwandb\u001b[0m:   val_loss ▁\n",
      "\u001b[34m\u001b[1mwandb\u001b[0m: \n",
      "\u001b[34m\u001b[1mwandb\u001b[0m: Run summary:\n",
      "\u001b[34m\u001b[1mwandb\u001b[0m: train_loss 46410.14374\n",
      "\u001b[34m\u001b[1mwandb\u001b[0m:   val_loss 273083.58806\n",
      "\u001b[34m\u001b[1mwandb\u001b[0m: \n",
      "\u001b[34m\u001b[1mwandb\u001b[0m: 🚀 View run \u001b[33mkind-sweep-1\u001b[0m at: \u001b[34m\u001b[4mhttps://wandb.ai/miriam-lamari2-eurecom/Project-ASI/runs/8cnmzu2i\u001b[0m\n",
      "\u001b[34m\u001b[1mwandb\u001b[0m: ⭐️ View project at: \u001b[34m\u001b[4mhttps://wandb.ai/miriam-lamari2-eurecom/Project-ASI\u001b[0m\n",
      "\u001b[34m\u001b[1mwandb\u001b[0m: Synced 5 W&B file(s), 0 media file(s), 0 artifact file(s) and 0 other file(s)\n",
      "\u001b[34m\u001b[1mwandb\u001b[0m: Find logs at: \u001b[35m\u001b[1m./wandb/run-20250517_150454-8cnmzu2i/logs\u001b[0m\n",
      "\u001b[34m\u001b[1mwandb\u001b[0m: Sweep Agent: Waiting for job.\n",
      "\u001b[34m\u001b[1mwandb\u001b[0m: Sweep Agent: Exiting.\n"
     ]
    }
   ],
   "source": [
    "sweep_configuration = {\n",
    "     \"method\": \"grid\",\n",
    "     \"metric\": {\"goal\": \"minimize\", \"name\": \"val_loss\"},\n",
    "     'name': \"sweep-BBB-Gaussian\",\n",
    "     \"parameters\": {\n",
    "         \"learning_rate\": {'values': [1e-3, 1e-4]},\n",
    "         \"prior_pi\": {'values': [0.25, 0.5, 0.75]},\n",
    "         \"prior_sigma1\": {'values': [1, math.exp(-1), math.exp(-2)]},\n",
    "         \"prior_sigma2\": {'values': [math.exp(-6), math.exp(-7), math.exp(-8)]},\n",
    "     },\n",
    "}\n",
    "\n",
    "sweep_configuration = {\n",
    "     \"method\": \"grid\",\n",
    "     \"metric\": {\"goal\": \"minimize\", \"name\": \"val_loss\"},\n",
    "     'name': \"sweep-BBB-test\",\n",
    "     \"parameters\": {\n",
    "         \"learning_rate\": {'values': [1e-3]},\n",
    "         \"prior_pi\": {'values': [0.5]},\n",
    "         \"prior_sigma1\": {'values': [1]},\n",
    "         \"prior_sigma2\": {'values': [math.exp(-6)]},\n",
    "     },\n",
    "}\n",
    "\n",
    "sweep_id = wandb.sweep(sweep=sweep_configuration, project=\"Project-ASI\")\n",
    "wandb.agent(sweep_id, function=train_wrapper);"
   ]
  }
 ],
 "metadata": {
  "kaggle": {
   "accelerator": "gpu",
   "dataSources": [],
   "dockerImageVersionId": 31041,
   "isGpuEnabled": true,
   "isInternetEnabled": true,
   "language": "python",
   "sourceType": "notebook"
  },
  "kernelspec": {
   "display_name": "Python 3",
   "language": "python",
   "name": "python3"
  },
  "language_info": {
   "codemirror_mode": {
    "name": "ipython",
    "version": 3
   },
   "file_extension": ".py",
   "mimetype": "text/x-python",
   "name": "python",
   "nbconvert_exporter": "python",
   "pygments_lexer": "ipython3",
   "version": "3.11.11"
  },
  "papermill": {
   "default_parameters": {},
   "duration": 103.283004,
   "end_time": "2025-05-17T15:06:16.320257",
   "environment_variables": {},
   "exception": null,
   "input_path": "__notebook__.ipynb",
   "output_path": "__notebook__.ipynb",
   "parameters": {},
   "start_time": "2025-05-17T15:04:33.037253",
   "version": "2.6.0"
  }
 },
 "nbformat": 4,
 "nbformat_minor": 5
}
