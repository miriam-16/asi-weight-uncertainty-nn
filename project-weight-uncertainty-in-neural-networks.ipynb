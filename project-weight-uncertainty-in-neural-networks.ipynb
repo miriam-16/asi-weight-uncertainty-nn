{
 "cells": [
  {
   "cell_type": "markdown",
   "id": "0876b0dc",
   "metadata": {
    "papermill": {
     "duration": 0.003883,
     "end_time": "2025-05-17T15:09:57.439831",
     "exception": false,
     "start_time": "2025-05-17T15:09:57.435948",
     "status": "completed"
    },
    "tags": []
   },
   "source": [
    "# [ASI Project] Weight Uncertainty in Neural Networks  \n",
    "**Authors**: Miriam Lamari, Francesco Giannuzzo  \n"
   ]
  },
  {
   "cell_type": "code",
   "execution_count": 1,
   "id": "11a4997c",
   "metadata": {
    "execution": {
     "iopub.execute_input": "2025-05-17T15:09:57.447348Z",
     "iopub.status.busy": "2025-05-17T15:09:57.447044Z",
     "iopub.status.idle": "2025-05-17T15:10:09.015826Z",
     "shell.execute_reply": "2025-05-17T15:10:09.015264Z"
    },
    "papermill": {
     "duration": 11.574451,
     "end_time": "2025-05-17T15:10:09.017306",
     "exception": false,
     "start_time": "2025-05-17T15:09:57.442855",
     "status": "completed"
    },
    "tags": []
   },
   "outputs": [],
   "source": [
    "import csv\n",
    "\n",
    "import numpy as np\n",
    "import torch.nn as nn\n",
    "import torch.nn.functional as F\n",
    "import torch.utils.data\n",
    "from torchvision import datasets\n",
    "from torchvision import transforms\n",
    "from kaggle_secrets import UserSecretsClient\n",
    "import wandb"
   ]
  },
  {
   "cell_type": "code",
   "execution_count": 2,
   "id": "a25e5576",
   "metadata": {
    "execution": {
     "iopub.execute_input": "2025-05-17T15:10:09.024403Z",
     "iopub.status.busy": "2025-05-17T15:10:09.024055Z",
     "iopub.status.idle": "2025-05-17T15:10:09.768085Z",
     "shell.execute_reply": "2025-05-17T15:10:09.767371Z"
    },
    "papermill": {
     "duration": 0.748654,
     "end_time": "2025-05-17T15:10:09.769254",
     "exception": false,
     "start_time": "2025-05-17T15:10:09.020600",
     "status": "completed"
    },
    "tags": []
   },
   "outputs": [
    {
     "name": "stderr",
     "output_type": "stream",
     "text": [
      "\u001b[34m\u001b[1mwandb\u001b[0m: Using wandb-core as the SDK backend.  Please refer to https://wandb.me/wandb-core for more information.\n",
      "\u001b[34m\u001b[1mwandb\u001b[0m: \u001b[33mWARNING\u001b[0m If you're specifying your api key in code, ensure this code is not shared publicly.\n",
      "\u001b[34m\u001b[1mwandb\u001b[0m: \u001b[33mWARNING\u001b[0m Consider setting the WANDB_API_KEY environment variable, or running `wandb login` from the command line.\n",
      "\u001b[34m\u001b[1mwandb\u001b[0m: No netrc file found, creating one.\n",
      "\u001b[34m\u001b[1mwandb\u001b[0m: Appending key for api.wandb.ai to your netrc file: /root/.netrc\n",
      "\u001b[34m\u001b[1mwandb\u001b[0m: Currently logged in as: \u001b[33mfrancescogiannuzzo2002-fg\u001b[0m (\u001b[33mmiriam-lamari2-eurecom\u001b[0m) to \u001b[32mhttps://api.wandb.ai\u001b[0m. Use \u001b[1m`wandb login --relogin`\u001b[0m to force relogin\n"
     ]
    },
    {
     "data": {
      "text/plain": [
       "True"
      ]
     },
     "execution_count": 2,
     "metadata": {},
     "output_type": "execute_result"
    }
   ],
   "source": [
    "user_secrets = UserSecretsClient()\n",
    "key = user_secrets.get_secret('wandb-api-key')\n",
    "\n",
    "wandb.login(key=key)"
   ]
  },
  {
   "cell_type": "markdown",
   "id": "04bf10fa",
   "metadata": {
    "papermill": {
     "duration": 0.003172,
     "end_time": "2025-05-17T15:10:09.775888",
     "exception": false,
     "start_time": "2025-05-17T15:10:09.772716",
     "status": "completed"
    },
    "tags": []
   },
   "source": [
    "## Minibatches\n",
    "**minibatch_weight**(batch_idx: int, num_batches: int)"
   ]
  },
  {
   "cell_type": "code",
   "execution_count": 3,
   "id": "247c9aea",
   "metadata": {
    "execution": {
     "iopub.execute_input": "2025-05-17T15:10:09.782755Z",
     "iopub.status.busy": "2025-05-17T15:10:09.782528Z",
     "iopub.status.idle": "2025-05-17T15:10:09.785971Z",
     "shell.execute_reply": "2025-05-17T15:10:09.785463Z"
    },
    "papermill": {
     "duration": 0.008106,
     "end_time": "2025-05-17T15:10:09.787006",
     "exception": false,
     "start_time": "2025-05-17T15:10:09.778900",
     "status": "completed"
    },
    "tags": []
   },
   "outputs": [],
   "source": [
    "def minibatch_weight(batch_idx: int, num_batches: int) -> float:\n",
    "    return 2 ** (num_batches - batch_idx) / (2 ** num_batches - batch_idx)"
   ]
  },
  {
   "cell_type": "markdown",
   "id": "ac24c4c2",
   "metadata": {
    "papermill": {
     "duration": 0.003504,
     "end_time": "2025-05-17T15:10:09.793595",
     "exception": false,
     "start_time": "2025-05-17T15:10:09.790091",
     "status": "completed"
    },
    "tags": []
   },
   "source": [
    "## Variational Approximation"
   ]
  },
  {
   "cell_type": "code",
   "execution_count": 4,
   "id": "d0de98bd",
   "metadata": {
    "execution": {
     "iopub.execute_input": "2025-05-17T15:10:09.800608Z",
     "iopub.status.busy": "2025-05-17T15:10:09.800393Z",
     "iopub.status.idle": "2025-05-17T15:10:09.806221Z",
     "shell.execute_reply": "2025-05-17T15:10:09.805701Z"
    },
    "papermill": {
     "duration": 0.010585,
     "end_time": "2025-05-17T15:10:09.807244",
     "exception": false,
     "start_time": "2025-05-17T15:10:09.796659",
     "status": "completed"
    },
    "tags": []
   },
   "outputs": [],
   "source": [
    "from typing import Any, Optional\n",
    "\n",
    "import torch.nn as nn\n",
    "from torch import Tensor\n",
    "\n",
    "\n",
    "class BayesianModule(nn.Module):\n",
    "\n",
    "    \"\"\"Base class for BNN to enable certain behaviour.\"\"\"\n",
    "\n",
    "    def __init__(self):\n",
    "        super().__init__()\n",
    "\n",
    "    def kld(self, *args):\n",
    "        raise NotImplementedError('BayesianModule::kld()')\n",
    "\n",
    "\n",
    "def variational_approximator(model: nn.Module) -> nn.Module:\n",
    "\n",
    "    def kl_divergence(self) -> Tensor:\n",
    "\n",
    "        kl = 0\n",
    "        for module in self.modules():\n",
    "            if isinstance(module, BayesianModule):\n",
    "                kl += module.kl_divergence\n",
    "\n",
    "        return kl\n",
    "\n",
    "    # add `kl_divergence` to the model\n",
    "    setattr(model, 'kl_divergence', kl_divergence)\n",
    "\n",
    "    def elbo(self,\n",
    "             inputs: Tensor,\n",
    "             targets: Tensor,\n",
    "             criterion: Any,\n",
    "             n_samples: int,\n",
    "             w_complexity: Optional[float] = 1.0) -> Tensor:\n",
    "\n",
    "        loss = 0\n",
    "        for sample in range(n_samples):\n",
    "            outputs = self(inputs)\n",
    "            loss += criterion(outputs, targets)\n",
    "            loss += self.kl_divergence() * w_complexity\n",
    "\n",
    "        return loss / n_samples\n",
    "\n",
    "    # add `elbo` to the model\n",
    "    setattr(model, 'elbo', elbo)\n",
    "\n",
    "    return model\n"
   ]
  },
  {
   "cell_type": "markdown",
   "id": "c2fd1f8f",
   "metadata": {
    "papermill": {
     "duration": 0.002906,
     "end_time": "2025-05-17T15:10:09.813294",
     "exception": false,
     "start_time": "2025-05-17T15:10:09.810388",
     "status": "completed"
    },
    "tags": []
   },
   "source": [
    "## Scale Mixture Prior"
   ]
  },
  {
   "cell_type": "code",
   "execution_count": 5,
   "id": "bc25c550",
   "metadata": {
    "execution": {
     "iopub.execute_input": "2025-05-17T15:10:09.820519Z",
     "iopub.status.busy": "2025-05-17T15:10:09.820023Z",
     "iopub.status.idle": "2025-05-17T15:10:09.826095Z",
     "shell.execute_reply": "2025-05-17T15:10:09.825408Z"
    },
    "papermill": {
     "duration": 0.010852,
     "end_time": "2025-05-17T15:10:09.827197",
     "exception": false,
     "start_time": "2025-05-17T15:10:09.816345",
     "status": "completed"
    },
    "tags": []
   },
   "outputs": [],
   "source": [
    "import functools as ft\n",
    "\n",
    "import torch\n",
    "import torch.nn as nn\n",
    "from torch import Tensor\n",
    "\n",
    "\n",
    "class ScaleMixture(nn.Module):\n",
    "\n",
    "    \"\"\"Scale Mixture Prior.\n",
    "\n",
    "    Section 3.3 of the 'Weight Uncertainty in Neural Networks' paper\n",
    "    proposes the use of a Scale Mixture prior for use in variational\n",
    "    inference - this being a fixed-form prior.\n",
    "\n",
    "    The authors note that, should the parameters be allowed to adjust\n",
    "    during training, the prior changes rapidly and attempts to capture\n",
    "    the empirical distribution of the weights. As a result the prior\n",
    "    learns to fit poor initial parameters and struggles to improve.\n",
    "    \"\"\"\n",
    "\n",
    "    def __init__(self, pi: float, sigma1: float, sigma2: float) -> None:\n",
    "\n",
    "        \"\"\"Scale Mixture Prior.\n",
    "\n",
    "        The authors of 'Weight Uncertainty in Neural Networks' note:\n",
    "\n",
    "            sigma1 > sigma2:\n",
    "                provides a heavier tail in the prior density than is\n",
    "                seen in a plain Gaussian prior.\n",
    "            sigma2 << 1.0:\n",
    "                causes many of the weights to a priori tightly\n",
    "                concentrate around zero.\n",
    "\n",
    "        Parameters\n",
    "        ----------\n",
    "        pi : float\n",
    "            Parameter used to scale the two Gaussian distributions.\n",
    "        sigma1 : float\n",
    "            Standard deviation of the first normal distribution.\n",
    "        sigma2 : float\n",
    "            Standard deviation of the second normal distribution.\n",
    "        \"\"\"\n",
    "\n",
    "        super().__init__()\n",
    "\n",
    "        self.pi = pi\n",
    "        self.sigma1 = sigma1\n",
    "        self.sigma2 = sigma2\n",
    "\n",
    "        self.normal1 = torch.distributions.Normal(0, sigma1)\n",
    "        self.normal2 = torch.distributions.Normal(0, sigma2)\n",
    "\n",
    "    def log_prior(self, w: Tensor) -> Tensor:\n",
    "\n",
    "        \"\"\"Log Likelihood of the weight according to the prior.\n",
    "\n",
    "        Calculates the log likelihood of the supplied weight given the\n",
    "        prior distribution - the scale mixture of two Gaussians.\n",
    "\n",
    "        Parameters\n",
    "        ----------\n",
    "        w : Tensor\n",
    "            Weight to be used to calculate the log likelihood.\n",
    "\n",
    "        Returns\n",
    "        -------\n",
    "        Tensor\n",
    "            Log likelihood of the weights from the prior distribution.\n",
    "        \"\"\"\n",
    "\n",
    "        likelihood_n1 = torch.exp(self.normal1.log_prob(w))\n",
    "        likelihood_n2 = torch.exp(self.normal2.log_prob(w))\n",
    "\n",
    "        p_scalemixture = self.pi * likelihood_n1 + (1 - self.pi) * likelihood_n2\n",
    "        log_prob = torch.log(p_scalemixture).sum()\n",
    "\n",
    "        return log_prob"
   ]
  },
  {
   "cell_type": "markdown",
   "id": "d98fcc4c",
   "metadata": {
    "papermill": {
     "duration": 0.003002,
     "end_time": "2025-05-17T15:10:09.833314",
     "exception": false,
     "start_time": "2025-05-17T15:10:09.830312",
     "status": "completed"
    },
    "tags": []
   },
   "source": [
    "## Gaussian Variational Inference"
   ]
  },
  {
   "cell_type": "code",
   "execution_count": 6,
   "id": "6942b105",
   "metadata": {
    "execution": {
     "iopub.execute_input": "2025-05-17T15:10:09.839998Z",
     "iopub.status.busy": "2025-05-17T15:10:09.839811Z",
     "iopub.status.idle": "2025-05-17T15:10:09.845907Z",
     "shell.execute_reply": "2025-05-17T15:10:09.845239Z"
    },
    "papermill": {
     "duration": 0.010584,
     "end_time": "2025-05-17T15:10:09.846888",
     "exception": false,
     "start_time": "2025-05-17T15:10:09.836304",
     "status": "completed"
    },
    "tags": []
   },
   "outputs": [],
   "source": [
    "import numpy as np\n",
    "import torch\n",
    "import torch.nn as nn\n",
    "from torch import Tensor\n",
    "\n",
    "\n",
    "class GaussianVariational(nn.Module):\n",
    "    def __init__(self, mu: Tensor, rho: Tensor) -> None:\n",
    "\n",
    "        super().__init__()\n",
    "\n",
    "        self.mu = nn.Parameter(mu)\n",
    "        self.rho = nn.Parameter(rho)\n",
    "\n",
    "        self.w = None\n",
    "        self.sigma = None\n",
    "\n",
    "        self.normal = torch.distributions.Normal(0, 1)\n",
    "\n",
    "    def sample(self) -> Tensor:\n",
    "        device = self.mu.device\n",
    "        epsilon = self.normal.sample(self.mu.size()).to(device)\n",
    "        self.sigma = torch.log(1 + torch.exp(self.rho)).to(device)\n",
    "        self.w = self.mu + self.sigma * epsilon\n",
    "\n",
    "        return self.w\n",
    "\n",
    "    def log_posterior(self) -> Tensor:\n",
    "\n",
    "        if self.w is None:\n",
    "            raise ValueError('self.w must have a value.')\n",
    "\n",
    "        log_const = np.log(np.sqrt(2 * np.pi))\n",
    "        log_exp = ((self.w - self.mu) ** 2) / (2 * self.sigma ** 2)\n",
    "        log_posterior = -log_const - torch.log(self.sigma) - log_exp\n",
    "\n",
    "        return log_posterior.sum()"
   ]
  },
  {
   "cell_type": "markdown",
   "id": "795283f4",
   "metadata": {
    "papermill": {
     "duration": 0.00294,
     "end_time": "2025-05-17T15:10:09.852823",
     "exception": false,
     "start_time": "2025-05-17T15:10:09.849883",
     "status": "completed"
    },
    "tags": []
   },
   "source": [
    "## Bayesian Linear Layer ##"
   ]
  },
  {
   "cell_type": "code",
   "execution_count": 7,
   "id": "b2d08c65",
   "metadata": {
    "execution": {
     "iopub.execute_input": "2025-05-17T15:10:09.859696Z",
     "iopub.status.busy": "2025-05-17T15:10:09.859495Z",
     "iopub.status.idle": "2025-05-17T15:10:09.865874Z",
     "shell.execute_reply": "2025-05-17T15:10:09.865400Z"
    },
    "papermill": {
     "duration": 0.011085,
     "end_time": "2025-05-17T15:10:09.866917",
     "exception": false,
     "start_time": "2025-05-17T15:10:09.855832",
     "status": "completed"
    },
    "tags": []
   },
   "outputs": [],
   "source": [
    "from typing import Optional\n",
    "\n",
    "import torch\n",
    "import torch.nn.functional as F\n",
    "from torch import Tensor\n",
    "\n",
    "#from .base_bayesian import BayesianModule\n",
    "#from .samplers.gaussian_variational import GaussianVariational\n",
    "#from .samplers.scale_mixture import ScaleMixture\n",
    "\n",
    "\n",
    "class BayesLinear(BayesianModule):\n",
    "\n",
    "    \"\"\"Bayesian Linear Layer.\n",
    "\n",
    "    Implementation of a Bayesian Linear Layer as described in the\n",
    "    'Weight Uncertainty in Neural Networks' paper.\n",
    "    \"\"\"\n",
    "\n",
    "    def __init__(self,\n",
    "                 in_features: int,\n",
    "                 out_features: int,\n",
    "                 prior_pi: Optional[float] = 0.5,\n",
    "                 prior_sigma1: Optional[float] = 1.0,\n",
    "                 prior_sigma2: Optional[float] = 0.0025) -> None:\n",
    "\n",
    "        super().__init__()\n",
    "\n",
    "        w_mu = torch.empty(out_features, in_features).uniform_(-0.2, 0.2)\n",
    "        w_rho = torch.empty(out_features, in_features).uniform_(-5.0, -4.0)\n",
    "\n",
    "        bias_mu = torch.empty(out_features).uniform_(-0.2, 0.2)\n",
    "        bias_rho = torch.empty(out_features).uniform_(-5.0, -4.0)\n",
    "\n",
    "        self.w_posterior = GaussianVariational(w_mu, w_rho)\n",
    "        self.bias_posterior = GaussianVariational(bias_mu, bias_rho)\n",
    "\n",
    "        self.w_prior = ScaleMixture(prior_pi, prior_sigma1, prior_sigma2)\n",
    "        self.bias_prior = ScaleMixture(prior_pi, prior_sigma1, prior_sigma2)\n",
    "\n",
    "        self.kl_divergence = 0.0\n",
    "\n",
    "    def forward(self, x: Tensor) -> Tensor:\n",
    "\n",
    "        w = self.w_posterior.sample()\n",
    "        b = self.bias_posterior.sample()\n",
    "\n",
    "        w_log_prior = self.w_prior.log_prior(w)\n",
    "        b_log_prior = self.bias_prior.log_prior(b)\n",
    "\n",
    "        w_log_posterior = self.w_posterior.log_posterior()\n",
    "        b_log_posterior = self.bias_posterior.log_posterior()\n",
    "\n",
    "        total_log_prior = w_log_prior + b_log_prior\n",
    "        total_log_posterior = w_log_posterior + b_log_posterior\n",
    "        self.kl_divergence = self.kld(total_log_prior, total_log_posterior)\n",
    "\n",
    "        return F.linear(x, w, b)\n",
    "\n",
    "    def kld(self, log_prior: Tensor, log_posterior: Tensor) -> Tensor:\n",
    "        return log_posterior - log_prior"
   ]
  },
  {
   "cell_type": "code",
   "execution_count": 8,
   "id": "508cdad4",
   "metadata": {
    "execution": {
     "iopub.execute_input": "2025-05-17T15:10:09.873804Z",
     "iopub.status.busy": "2025-05-17T15:10:09.873606Z",
     "iopub.status.idle": "2025-05-17T15:10:09.948336Z",
     "shell.execute_reply": "2025-05-17T15:10:09.947727Z"
    },
    "papermill": {
     "duration": 0.079384,
     "end_time": "2025-05-17T15:10:09.949480",
     "exception": false,
     "start_time": "2025-05-17T15:10:09.870096",
     "status": "completed"
    },
    "tags": []
   },
   "outputs": [],
   "source": [
    "device = torch.device('cuda' if torch.cuda.is_available() else 'cpu')\n",
    "kwargs = {'num_workers': 1, 'pin_memory': True} if device == 'cuda' else {}\n",
    "\n",
    "# define transforms\n",
    "transform = transforms.Compose([\n",
    "    transforms.ToTensor(),\n",
    "    transforms.Normalize((0.1307,), (0.3081,))\n",
    "])\n"
   ]
  },
  {
   "cell_type": "code",
   "execution_count": 9,
   "id": "7f3c9c83",
   "metadata": {
    "execution": {
     "iopub.execute_input": "2025-05-17T15:10:09.957140Z",
     "iopub.status.busy": "2025-05-17T15:10:09.956610Z",
     "iopub.status.idle": "2025-05-17T15:10:13.989306Z",
     "shell.execute_reply": "2025-05-17T15:10:13.988489Z"
    },
    "papermill": {
     "duration": 4.037706,
     "end_time": "2025-05-17T15:10:13.990532",
     "exception": false,
     "start_time": "2025-05-17T15:10:09.952826",
     "status": "completed"
    },
    "tags": []
   },
   "outputs": [
    {
     "name": "stderr",
     "output_type": "stream",
     "text": [
      "100%|██████████| 9.91M/9.91M [00:00<00:00, 16.1MB/s]\n",
      "100%|██████████| 28.9k/28.9k [00:00<00:00, 478kB/s]\n",
      "100%|██████████| 1.65M/1.65M [00:00<00:00, 4.47MB/s]\n",
      "100%|██████████| 4.54k/4.54k [00:00<00:00, 7.46MB/s]\n"
     ]
    }
   ],
   "source": [
    "# load / process data\n",
    "trainset = datasets.MNIST('./data', train=True, download=True,transform=transform)\n",
    "trainloader = torch.utils.data.DataLoader(trainset, batch_size=128, **kwargs)\n",
    "\n",
    "testset = datasets.MNIST('./data', train=False, download=True, transform=transform)\n",
    "testloader = torch.utils.data.DataLoader(testset, batch_size=128, **kwargs)"
   ]
  },
  {
   "cell_type": "code",
   "execution_count": 10,
   "id": "50f2d91e",
   "metadata": {
    "execution": {
     "iopub.execute_input": "2025-05-17T15:10:13.999548Z",
     "iopub.status.busy": "2025-05-17T15:10:13.999320Z",
     "iopub.status.idle": "2025-05-17T15:10:14.008406Z",
     "shell.execute_reply": "2025-05-17T15:10:14.007716Z"
    },
    "papermill": {
     "duration": 0.014699,
     "end_time": "2025-05-17T15:10:14.009416",
     "exception": false,
     "start_time": "2025-05-17T15:10:13.994717",
     "status": "completed"
    },
    "tags": []
   },
   "outputs": [],
   "source": [
    "def train_loop(learning_rate, prior_pi, prior_sigma1, prior_sigma2):\n",
    "    \n",
    "    @variational_approximator\n",
    "    class BayesianNetwork(nn.Module):\n",
    "        def __init__(self, input_dim, output_dim):\n",
    "            super().__init__()\n",
    "            self.bl1 = BayesLinear(input_dim, 1200, prior_pi, prior_sigma1, prior_sigma2)\n",
    "            self.bl2 = BayesLinear(1200, 1200, prior_pi, prior_sigma1, prior_sigma2)\n",
    "            self.bl3 = BayesLinear(1200, output_dim, prior_pi, prior_sigma1, prior_sigma2)\n",
    "    \n",
    "        def forward(self, x):\n",
    "            x = x.view(-1, 28 * 28)\n",
    "    \n",
    "            x = F.relu(self.bl1(x))\n",
    "            x = F.relu(self.bl2(x))\n",
    "            x = self.bl3(x)\n",
    "    \n",
    "            return x\n",
    "            \n",
    "    model = BayesianNetwork(28 * 28, 10).to(device)\n",
    "    \n",
    "    run = wandb.init(project=\"Project-ASI\")\n",
    "\n",
    "    optimizer = torch.optim.Adam(model.parameters(), lr=learning_rate)\n",
    "    criterion = nn.CrossEntropyLoss(reduction='sum')\n",
    "    \n",
    "\n",
    "    min_test_loss = np.Inf\n",
    "    for epoch in range(1):\n",
    "    \n",
    "        train_loss = 0.0\n",
    "        val_loss = 0.0\n",
    "    \n",
    "        model.train()\n",
    "        for batch_idx, (data, labels) in enumerate(trainloader):\n",
    "            data, labels = data.to(device), labels.to(device)\n",
    "    \n",
    "            optimizer.zero_grad()\n",
    "    \n",
    "            pi_weight = minibatch_weight(batch_idx=batch_idx, num_batches=128)\n",
    "    \n",
    "            loss = model.elbo(\n",
    "                inputs=data,\n",
    "                targets=labels,\n",
    "                criterion=criterion,\n",
    "                n_samples=3,\n",
    "                w_complexity=pi_weight\n",
    "            )\n",
    "    \n",
    "            train_loss += loss.item() * data.size(0)\n",
    "    \n",
    "            loss.backward()\n",
    "            optimizer.step()\n",
    "    \n",
    "        model.eval()\n",
    "        with torch.no_grad():\n",
    "            for batch_idx, (data, labels) in enumerate(testloader):\n",
    "                data, labels = data.to(device), labels.to(device)\n",
    "    \n",
    "                outputs = model(data)\n",
    "    \n",
    "                pi_weight = minibatch_weight(batch_idx=batch_idx, num_batches=128)\n",
    "    \n",
    "                loss = model.elbo(\n",
    "                    inputs=data,\n",
    "                    targets=labels,\n",
    "                    criterion=criterion,\n",
    "                    n_samples=3,\n",
    "                    w_complexity=pi_weight\n",
    "                )\n",
    "    \n",
    "                val_loss += loss.item() * data.size(0)\n",
    "    \n",
    "        train_loss /= len(trainloader.dataset)\n",
    "        val_loss /= len(testloader.dataset)\n",
    "\n",
    "        metrics = {'train_loss': train_loss, 'val_loss': val_loss }\n",
    "        wandb.log(metrics)\n"
   ]
  },
  {
   "cell_type": "code",
   "execution_count": 11,
   "id": "fc5ef8f8",
   "metadata": {
    "execution": {
     "iopub.execute_input": "2025-05-17T15:10:14.018291Z",
     "iopub.status.busy": "2025-05-17T15:10:14.018052Z",
     "iopub.status.idle": "2025-05-17T15:10:14.021625Z",
     "shell.execute_reply": "2025-05-17T15:10:14.020960Z"
    },
    "papermill": {
     "duration": 0.009496,
     "end_time": "2025-05-17T15:10:14.022740",
     "exception": false,
     "start_time": "2025-05-17T15:10:14.013244",
     "status": "completed"
    },
    "tags": []
   },
   "outputs": [],
   "source": [
    "def train_wrapper():\n",
    "    run = wandb.init(project=\"Project-ASI\")\n",
    "\n",
    "    return train_loop(\n",
    "        learning_rate = wandb.config.learning_rate,\n",
    "        prior_pi = wandb.config.prior_pi,\n",
    "        prior_sigma1=wandb.config.prior_sigma1,\n",
    "        prior_sigma2=wandb.config.prior_sigma2\n",
    "    )"
   ]
  },
  {
   "cell_type": "markdown",
   "id": "936192c2",
   "metadata": {
    "papermill": {
     "duration": 0.003643,
     "end_time": "2025-05-17T15:10:14.030331",
     "exception": false,
     "start_time": "2025-05-17T15:10:14.026688",
     "status": "completed"
    },
    "tags": []
   },
   "source": [
    "## Tuning Hyperparamters"
   ]
  },
  {
   "cell_type": "code",
   "execution_count": 12,
   "id": "a9cd2706",
   "metadata": {
    "execution": {
     "iopub.execute_input": "2025-05-17T15:10:14.038740Z",
     "iopub.status.busy": "2025-05-17T15:10:14.038564Z",
     "iopub.status.idle": "2025-05-17T15:10:14.041802Z",
     "shell.execute_reply": "2025-05-17T15:10:14.041046Z"
    },
    "papermill": {
     "duration": 0.008587,
     "end_time": "2025-05-17T15:10:14.042908",
     "exception": false,
     "start_time": "2025-05-17T15:10:14.034321",
     "status": "completed"
    },
    "tags": []
   },
   "outputs": [],
   "source": [
    "import math"
   ]
  },
  {
   "cell_type": "code",
   "execution_count": 13,
   "id": "4c43519f",
   "metadata": {
    "execution": {
     "iopub.execute_input": "2025-05-17T15:10:14.051477Z",
     "iopub.status.busy": "2025-05-17T15:10:14.051069Z",
     "iopub.status.idle": "2025-05-17T15:11:35.448334Z",
     "shell.execute_reply": "2025-05-17T15:11:35.447541Z"
    },
    "papermill": {
     "duration": 81.402835,
     "end_time": "2025-05-17T15:11:35.449623",
     "exception": false,
     "start_time": "2025-05-17T15:10:14.046788",
     "status": "completed"
    },
    "tags": []
   },
   "outputs": [
    {
     "name": "stdout",
     "output_type": "stream",
     "text": [
      "Create sweep with ID: nyb6fsqh\n",
      "Sweep URL: https://wandb.ai/miriam-lamari2-eurecom/Project-ASI/sweeps/nyb6fsqh\n"
     ]
    },
    {
     "name": "stderr",
     "output_type": "stream",
     "text": [
      "\u001b[34m\u001b[1mwandb\u001b[0m: Agent Starting Run: 0n12l9ds with config:\n",
      "\u001b[34m\u001b[1mwandb\u001b[0m: \tlearning_rate: 0.001\n",
      "\u001b[34m\u001b[1mwandb\u001b[0m: \tprior_pi: 0.5\n",
      "\u001b[34m\u001b[1mwandb\u001b[0m: \tprior_sigma1: 1\n",
      "\u001b[34m\u001b[1mwandb\u001b[0m: \tprior_sigma2: 0.0024787521766663585\n",
      "\u001b[34m\u001b[1mwandb\u001b[0m: \u001b[33mWARNING\u001b[0m Ignoring project 'Project-ASI' when running a sweep.\n",
      "\u001b[34m\u001b[1mwandb\u001b[0m: Tracking run with wandb version 0.19.9\n",
      "\u001b[34m\u001b[1mwandb\u001b[0m: Run data is saved locally in \u001b[35m\u001b[1m/kaggle/working/wandb/run-20250517_151015-0n12l9ds\u001b[0m\n",
      "\u001b[34m\u001b[1mwandb\u001b[0m: Run \u001b[1m`wandb offline`\u001b[0m to turn off syncing.\n",
      "\u001b[34m\u001b[1mwandb\u001b[0m: Syncing run \u001b[33msilver-sweep-1\u001b[0m\n",
      "\u001b[34m\u001b[1mwandb\u001b[0m: ⭐️ View project at \u001b[34m\u001b[4mhttps://wandb.ai/miriam-lamari2-eurecom/Project-ASI\u001b[0m\n",
      "\u001b[34m\u001b[1mwandb\u001b[0m: 🧹 View sweep at \u001b[34m\u001b[4mhttps://wandb.ai/miriam-lamari2-eurecom/Project-ASI/sweeps/nyb6fsqh\u001b[0m\n",
      "\u001b[34m\u001b[1mwandb\u001b[0m: 🚀 View run at \u001b[34m\u001b[4mhttps://wandb.ai/miriam-lamari2-eurecom/Project-ASI/runs/0n12l9ds\u001b[0m\n",
      "\u001b[34m\u001b[1mwandb\u001b[0m: \u001b[33mWARNING\u001b[0m Ignoring project 'Project-ASI' when running a sweep.\n",
      "\u001b[34m\u001b[1mwandb\u001b[0m:                                                                                \n",
      "\u001b[34m\u001b[1mwandb\u001b[0m: 🚀 View run \u001b[33msilver-sweep-1\u001b[0m at: \u001b[34m\u001b[4mhttps://wandb.ai/miriam-lamari2-eurecom/Project-ASI/runs/0n12l9ds\u001b[0m\n",
      "\u001b[34m\u001b[1mwandb\u001b[0m: ⭐️ View project at: \u001b[34m\u001b[4mhttps://wandb.ai/miriam-lamari2-eurecom/Project-ASI\u001b[0m\n",
      "\u001b[34m\u001b[1mwandb\u001b[0m: Synced 5 W&B file(s), 0 media file(s), 0 artifact file(s) and 0 other file(s)\n",
      "\u001b[34m\u001b[1mwandb\u001b[0m: Find logs at: \u001b[35m\u001b[1m./wandb/run-20250517_151015-0n12l9ds/logs\u001b[0m\n",
      "\u001b[34m\u001b[1mwandb\u001b[0m: Tracking run with wandb version 0.19.9\n",
      "\u001b[34m\u001b[1mwandb\u001b[0m: Run data is saved locally in \u001b[35m\u001b[1m/kaggle/working/wandb/run-20250517_151017-0n12l9ds\u001b[0m\n",
      "\u001b[34m\u001b[1mwandb\u001b[0m: Run \u001b[1m`wandb offline`\u001b[0m to turn off syncing.\n",
      "\u001b[34m\u001b[1mwandb\u001b[0m: Syncing run \u001b[33msilver-sweep-1\u001b[0m\n",
      "\u001b[34m\u001b[1mwandb\u001b[0m: ⭐️ View project at \u001b[34m\u001b[4mhttps://wandb.ai/miriam-lamari2-eurecom/Project-ASI\u001b[0m\n",
      "\u001b[34m\u001b[1mwandb\u001b[0m: 🧹 View sweep at \u001b[34m\u001b[4mhttps://wandb.ai/miriam-lamari2-eurecom/Project-ASI/sweeps/nyb6fsqh\u001b[0m\n",
      "\u001b[34m\u001b[1mwandb\u001b[0m: 🚀 View run at \u001b[34m\u001b[4mhttps://wandb.ai/miriam-lamari2-eurecom/Project-ASI/runs/0n12l9ds\u001b[0m\n",
      "\u001b[34m\u001b[1mwandb\u001b[0m:                                                                                \n",
      "\u001b[34m\u001b[1mwandb\u001b[0m: \n",
      "\u001b[34m\u001b[1mwandb\u001b[0m: Run history:\n",
      "\u001b[34m\u001b[1mwandb\u001b[0m: train_loss ▁\n",
      "\u001b[34m\u001b[1mwandb\u001b[0m:   val_loss ▁\n",
      "\u001b[34m\u001b[1mwandb\u001b[0m: \n",
      "\u001b[34m\u001b[1mwandb\u001b[0m: Run summary:\n",
      "\u001b[34m\u001b[1mwandb\u001b[0m: train_loss 46391.50705\n",
      "\u001b[34m\u001b[1mwandb\u001b[0m:   val_loss 273045.40641\n",
      "\u001b[34m\u001b[1mwandb\u001b[0m: \n",
      "\u001b[34m\u001b[1mwandb\u001b[0m: 🚀 View run \u001b[33msilver-sweep-1\u001b[0m at: \u001b[34m\u001b[4mhttps://wandb.ai/miriam-lamari2-eurecom/Project-ASI/runs/0n12l9ds\u001b[0m\n",
      "\u001b[34m\u001b[1mwandb\u001b[0m: ⭐️ View project at: \u001b[34m\u001b[4mhttps://wandb.ai/miriam-lamari2-eurecom/Project-ASI\u001b[0m\n",
      "\u001b[34m\u001b[1mwandb\u001b[0m: Synced 5 W&B file(s), 0 media file(s), 0 artifact file(s) and 0 other file(s)\n",
      "\u001b[34m\u001b[1mwandb\u001b[0m: Find logs at: \u001b[35m\u001b[1m./wandb/run-20250517_151017-0n12l9ds/logs\u001b[0m\n",
      "\u001b[34m\u001b[1mwandb\u001b[0m: Sweep Agent: Waiting for job.\n",
      "\u001b[34m\u001b[1mwandb\u001b[0m: Sweep Agent: Exiting.\n"
     ]
    }
   ],
   "source": [
    "sweep_configuration = {\n",
    "     \"method\": \"grid\",\n",
    "     \"metric\": {\"goal\": \"minimize\", \"name\": \"val_loss\"},\n",
    "     'name': \"sweep-BBB-Gaussian\",\n",
    "     \"parameters\": {\n",
    "         \"learning_rate\": {'values': [1e-3, 1e-4]},\n",
    "         \"prior_pi\": {'values': [0.25, 0.5, 0.75]},\n",
    "         \"prior_sigma1\": {'values': [1, math.exp(-1), math.exp(-2)]},\n",
    "         \"prior_sigma2\": {'values': [math.exp(-6), math.exp(-7), math.exp(-8)]},\n",
    "     },\n",
    "}\n",
    "\n",
    "sweep_configuration = {\n",
    "     \"method\": \"grid\",\n",
    "     \"metric\": {\"goal\": \"minimize\", \"name\": \"val_loss\"},\n",
    "     'name': \"sweep-BBB-test\",\n",
    "     \"parameters\": {\n",
    "         \"learning_rate\": {'values': [1e-3]},\n",
    "         \"prior_pi\": {'values': [0.5]},\n",
    "         \"prior_sigma1\": {'values': [1]},\n",
    "         \"prior_sigma2\": {'values': [math.exp(-6)]},\n",
    "     },\n",
    "}\n",
    "\n",
    "sweep_id = wandb.sweep(sweep=sweep_configuration, project=\"Project-ASI\")\n",
    "wandb.agent(sweep_id, function=train_wrapper);"
   ]
  }
 ],
 "metadata": {
  "kaggle": {
   "accelerator": "gpu",
   "dataSources": [],
   "dockerImageVersionId": 31041,
   "isGpuEnabled": true,
   "isInternetEnabled": true,
   "language": "python",
   "sourceType": "notebook"
  },
  "kernelspec": {
   "display_name": "Python 3",
   "language": "python",
   "name": "python3"
  },
  "language_info": {
   "codemirror_mode": {
    "name": "ipython",
    "version": 3
   },
   "file_extension": ".py",
   "mimetype": "text/x-python",
   "name": "python",
   "nbconvert_exporter": "python",
   "pygments_lexer": "ipython3",
   "version": "3.11.11"
  },
  "papermill": {
   "default_parameters": {},
   "duration": 104.786406,
   "end_time": "2025-05-17T15:11:38.172269",
   "environment_variables": {},
   "exception": null,
   "input_path": "__notebook__.ipynb",
   "output_path": "__notebook__.ipynb",
   "parameters": {},
   "start_time": "2025-05-17T15:09:53.385863",
   "version": "2.6.0"
  }
 },
 "nbformat": 4,
 "nbformat_minor": 5
}
